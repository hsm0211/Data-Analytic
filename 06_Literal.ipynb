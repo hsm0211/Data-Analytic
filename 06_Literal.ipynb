{
 "cells": [
  {
   "cell_type": "markdown",
   "metadata": {},
   "source": [
    "### literal\n",
    "- 프로그래밍 언어에서 값을 작성하는 문법"
   ]
  },
  {
   "cell_type": "code",
   "execution_count": 1,
   "metadata": {},
   "outputs": [
    {
     "name": "stdout",
     "output_type": "stream",
     "text": [
      "100\n",
      "11.11\n",
      "True\n",
      "False\n",
      "문자열\n",
      "(10+3j)\n",
      "31400000000.0\n",
      "1000000000000\n"
     ]
    }
   ],
   "source": [
    "# 정수\n",
    "print(100)\n",
    "# 실수\n",
    "print(11.11)\n",
    "# 참\n",
    "print(True)\n",
    "# 거짓\n",
    "print(False)\n",
    "# 문자열\n",
    "print(\"문자열\")\n",
    "# 복소수\n",
    "print(10 + 3j)\n",
    "# 지수 표현\n",
    "print(3.14e10)\n",
    "# 3자리마다 _ 를 사용할 수 있다.\n",
    "print(1_000_000_000_000)"
   ]
  },
  {
   "cell_type": "code",
   "execution_count": 2,
   "metadata": {},
   "outputs": [
    {
     "name": "stdout",
     "output_type": "stream",
     "text": [
      "None\n"
     ]
    }
   ],
   "source": [
    "# 아무것도 없다는 의미의 값\n",
    "print(None)\n"
   ]
  },
  {
   "cell_type": "markdown",
   "metadata": {},
   "source": [
    "### Type 함수\n",
    "- 값이 어떤 타입인지 파악할 수 있다."
   ]
  },
  {
   "cell_type": "code",
   "execution_count": 3,
   "metadata": {},
   "outputs": [
    {
     "name": "stdout",
     "output_type": "stream",
     "text": [
      "<class 'int'>\n",
      "<class 'float'>\n",
      "<class 'bool'>\n",
      "<class 'str'>\n"
     ]
    }
   ],
   "source": [
    "print(type(100))\n",
    "print(type(11.11))\n",
    "print(type(True))\n",
    "print(type('문자열'))\n"
   ]
  },
  {
   "cell_type": "code",
   "execution_count": null,
   "metadata": {},
   "outputs": [],
   "source": []
  }
 ],
 "metadata": {
  "kernelspec": {
   "display_name": "Python 3",
   "language": "python",
   "name": "python3"
  },
  "language_info": {
   "codemirror_mode": {
    "name": "ipython",
    "version": 3
   },
   "file_extension": ".py",
   "mimetype": "text/x-python",
   "name": "python",
   "nbconvert_exporter": "python",
   "pygments_lexer": "ipython3",
   "version": "3.8.5"
  }
 },
 "nbformat": 4,
 "nbformat_minor": 4
}
