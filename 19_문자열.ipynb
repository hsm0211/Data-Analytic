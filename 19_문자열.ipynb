{
 "cells": [
  {
   "cell_type": "markdown",
   "metadata": {},
   "source": [
    "### 파이썬에서의 문자열\n",
    "- ''(작은 따옴표), \"\"(큰 따옴표)로 묶어준다.\n",
    "- ''' ''', \"\"\" \"\"\" 로 묶어준 문자열이 존재한다(작성한 데로 관리하는 문자열)\n",
    "- 문자열 포멧팅을 지원한다.\n",
    "- 문자열 관리는 리스트나튜플과 비슷하게 관리한다."
   ]
  },
  {
   "cell_type": "markdown",
   "metadata": {},
   "source": [
    "### 문자열 생성"
   ]
  },
  {
   "cell_type": "code",
   "execution_count": 1,
   "metadata": {},
   "outputs": [
    {
     "name": "stdout",
     "output_type": "stream",
     "text": [
      "문자열1\n",
      "문자열2\n"
     ]
    }
   ],
   "source": [
    "str1 = '문자열1'\n",
    "str2 = \"문자열2\"\n",
    "\n",
    "print(str1)\n",
    "print(str2)"
   ]
  },
  {
   "cell_type": "code",
   "execution_count": 2,
   "metadata": {},
   "outputs": [
    {
     "name": "stdout",
     "output_type": "stream",
     "text": [
      "이름은 \"홍길동\" 입니다\n",
      "이름은 '홍길동' 입니다\n"
     ]
    }
   ],
   "source": [
    "# 작은 따옴표 문자열 안에 큰 따옴표\n",
    "str3 = '이름은 \"홍길동\" 입니다'\n",
    "# 큰 따옴표 문자열 안에 작은 따옴표\n",
    "str4 = \"이름은 '홍길동' 입니다\"\n",
    "\n",
    "print(str3)\n",
    "print(str4)\n"
   ]
  },
  {
   "cell_type": "code",
   "execution_count": 4,
   "metadata": {},
   "outputs": [
    {
     "name": "stdout",
     "output_type": "stream",
     "text": [
      " 나이는 \"30살\"이고 이름은 '홍길동' 입니다\n"
     ]
    }
   ],
   "source": [
    "str5 = ''' 나이는 \"30살\"이고 이름은 '홍길동' 입니다'''\n",
    "print(str5)"
   ]
  },
  {
   "cell_type": "code",
   "execution_count": 5,
   "metadata": {},
   "outputs": [
    {
     "name": "stdout",
     "output_type": "stream",
     "text": [
      "\n",
      "    동해물과 백두산이\n",
      "    마르고 닳도록\n",
      "    하느님이 보우하사\n",
      "    우리나라 만세\n",
      "\n"
     ]
    }
   ],
   "source": [
    "str6 = '''\n",
    "    동해물과 백두산이\n",
    "    마르고 닳도록\n",
    "    하느님이 보우하사\n",
    "    우리나라 만세\n",
    "'''\n",
    "print(str6)\n"
   ]
  },
  {
   "cell_type": "markdown",
   "metadata": {},
   "source": [
    "### 문자열 포멧팅"
   ]
  },
  {
   "cell_type": "code",
   "execution_count": 8,
   "metadata": {},
   "outputs": [
    {
     "name": "stdout",
     "output_type": "stream",
     "text": [
      "이름은 홍길동이고 나이는 30살 입니다\n"
     ]
    }
   ],
   "source": [
    "a1 = '홍길동'\n",
    "a2 = 30\n",
    "\n",
    "# + 연산자를 사용한 문자열 합치기\n",
    "str1 = '이름은 ' + a1 + '이고 나이는 ' + str(a2) + '살 입니다'\n",
    "print(str1)"
   ]
  },
  {
   "cell_type": "code",
   "execution_count": 9,
   "metadata": {},
   "outputs": [
    {
     "name": "stdout",
     "output_type": "stream",
     "text": [
      "이름은 홍길동이고 나이는 30살 입니다\n"
     ]
    }
   ],
   "source": [
    "# 모든 버전에서 사용 가능한 문자열 포멧팅\n",
    "str2 = '이름은 %s이고 나이는 %d살 입니다' % (a1, a2)\n",
    "print(str2)\n"
   ]
  },
  {
   "cell_type": "code",
   "execution_count": 10,
   "metadata": {},
   "outputs": [
    {
     "name": "stdout",
     "output_type": "stream",
     "text": [
      "홍길동님의 나이는 30살이고, 홍길동님은 정회원 입니다\n"
     ]
    }
   ],
   "source": [
    "str3 = '%s님의 나이는 %d살이고, %s님은 정회원 입니다' % (a1, a2, a1)\n",
    "print(str3)\n"
   ]
  },
  {
   "cell_type": "code",
   "execution_count": 13,
   "metadata": {},
   "outputs": [
    {
     "name": "stdout",
     "output_type": "stream",
     "text": [
      "님의 나이는 %d살이고, %s님은 정회원 입니다\n"
     ]
    }
   ],
   "source": [
    "# 파이썬 2.6 부터...\n",
    "# fotmat 함수에 작성한 값의 순서를 대입한다.\n",
    "str4 = '님의 나이는 %d살이고, %s님은 정회원 입니다'.format(a1, a2)\n",
    "print(str4)"
   ]
  },
  {
   "cell_type": "code",
   "execution_count": 12,
   "metadata": {},
   "outputs": [
    {
     "name": "stdout",
     "output_type": "stream",
     "text": [
      "홍길동님의 나이는 30살이고, 홍길동님은 정회원 입니다\n"
     ]
    }
   ],
   "source": [
    "# 파이썬 2.6 부터...\n",
    "# fotmat 함수에 작성한 값의 순서를 대입한다.\n",
    "str4 = '{0}님의 나이는 {1}살이고, {0}님은 정회원 입니다'.format(a1, a2)\n",
    "print(str4)\n"
   ]
  },
  {
   "cell_type": "code",
   "execution_count": 14,
   "metadata": {},
   "outputs": [
    {
     "name": "stdout",
     "output_type": "stream",
     "text": [
      "홍길동님의 나이는 30살이고, 홍길동님은 정회원 입니다\n"
     ]
    }
   ],
   "source": [
    "# 파이썬 3.1 부터..\n",
    "# 변수를 직접 대입해준다.\n",
    "# 문자열 앞에 f를 붙혀준다.\n",
    "str5 = f'{a1}님의 나이는 {a2}살이고, {a1}님은 정회원 입니다'\n",
    "print(str5)\n"
   ]
  },
  {
   "cell_type": "markdown",
   "metadata": {},
   "source": [
    "### 인덱싱, 슬라이싱 "
   ]
  },
  {
   "cell_type": "code",
   "execution_count": 15,
   "metadata": {},
   "outputs": [
    {
     "name": "stdout",
     "output_type": "stream",
     "text": [
      "동\n",
      "해\n",
      "이\n",
      "산\n"
     ]
    }
   ],
   "source": [
    "str1 = '동해물과 백두산이'\n",
    "\n",
    "# 튜플이나 리스트 처럼 인덱스 번호로 접근할 수 있다.\n",
    "print(str1[0])\n",
    "print(str1[1])\n",
    "print(str1[-1])\n",
    "print(str1[-2])\n"
   ]
  },
  {
   "cell_type": "code",
   "execution_count": 16,
   "metadata": {},
   "outputs": [
    {
     "name": "stdout",
     "output_type": "stream",
     "text": [
      "물과 백두\n",
      "동해물과 백두\n",
      "물과 백두산이\n"
     ]
    }
   ],
   "source": [
    "# 2 ~ 7-1\n",
    "print(str1[2:7])\n",
    "# 처음 부터 7-1까지\n",
    "print(str1[:7])\n",
    "# 2 ~ 끝까지\n",
    "print(str1[2:])\n"
   ]
  },
  {
   "cell_type": "markdown",
   "metadata": {},
   "source": [
    "### 문자열 함수들"
   ]
  },
  {
   "cell_type": "code",
   "execution_count": 18,
   "metadata": {},
   "outputs": [],
   "source": [
    "str1 = '동해물과 백두산이 동해물과 한라산이'"
   ]
  },
  {
   "cell_type": "code",
   "execution_count": 20,
   "metadata": {},
   "outputs": [
    {
     "name": "stdout",
     "output_type": "stream",
     "text": [
      "0\n",
      "10\n"
     ]
    }
   ],
   "source": [
    "# 문자열 찾기\n",
    "# 좌측에서 부터 찾기\n",
    "print(str1.find('동해'))\n",
    "# 뒤에서 부터 찾기\n",
    "print(str1.rfind('동해'))\n"
   ]
  },
  {
   "cell_type": "code",
   "execution_count": 21,
   "metadata": {},
   "outputs": [],
   "source": [
    "str1 = '동해물과 백두산이 동해물과 지리산이 동해물과 한라산이'\n"
   ]
  },
  {
   "cell_type": "code",
   "execution_count": 22,
   "metadata": {},
   "outputs": [
    {
     "name": "stdout",
     "output_type": "stream",
     "text": [
      "0\n",
      "20\n",
      "10\n"
     ]
    }
   ],
   "source": [
    "# 문자열 찾기\n",
    "# 좌측에서 부터 찾기\n",
    "print(str1.find('동해'))\n",
    "# 뒤에서 부터 찾기\n",
    "print(str1.rfind('동해'))\n",
    "# 좌측에서 부터 5글자 빼고 찾기\n",
    "print(str1.find('동해', 5))\n"
   ]
  },
  {
   "cell_type": "code",
   "execution_count": 23,
   "metadata": {},
   "outputs": [
    {
     "name": "stdout",
     "output_type": "stream",
     "text": [
      "['동해_물과', '백두_산이']\n"
     ]
    }
   ],
   "source": [
    "str1 = '동해_물과 백두_산이'\n",
    "# 문자열 나누기\n",
    "# 띄어쓰기를 통해 나누기\n",
    "str2 = str1.split()\n",
    "print(str2)\n"
   ]
  },
  {
   "cell_type": "code",
   "execution_count": 24,
   "metadata": {},
   "outputs": [
    {
     "name": "stdout",
     "output_type": "stream",
     "text": [
      "['동해', '물과 백두', '산이']\n"
     ]
    }
   ],
   "source": [
    "# 문자열을 지정해 나누기\n",
    "str3 = str1.split('_')\n",
    "print(str3)\n"
   ]
  },
  {
   "cell_type": "code",
   "execution_count": null,
   "metadata": {},
   "outputs": [],
   "source": [
    "str10 = '     동해물과      '\n",
    "\n",
    "print(f'[{str10}]')\n",
    "print(f'[{str10.lstrip()}]')\n",
    "print(f'[{str10.rstrip()}]')\n",
    "print(f'[{str10.strip()}]')\n"
   ]
  }
 ],
 "metadata": {
  "kernelspec": {
   "display_name": "Python 3",
   "language": "python",
   "name": "python3"
  },
  "language_info": {
   "codemirror_mode": {
    "name": "ipython",
    "version": 3
   },
   "file_extension": ".py",
   "mimetype": "text/x-python",
   "name": "python",
   "nbconvert_exporter": "python",
   "pygments_lexer": "ipython3",
   "version": "3.8.5"
  }
 },
 "nbformat": 4,
 "nbformat_minor": 4
}
