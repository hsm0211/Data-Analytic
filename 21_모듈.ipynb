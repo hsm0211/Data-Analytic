{
 "cells": [
  {
   "cell_type": "markdown",
   "metadata": {},
   "source": [
    "### 모듈\n",
    "- 작업을 하다 보면 코드가 길어 질 수 있다.\n",
    "- 코드를 여러 파일로 나누는 개념이 모듈\n",
    "- 파이썬에서는 py 파일 하나가 모듈 하나가 된다."
   ]
  },
  {
   "cell_type": "code",
   "execution_count": 1,
   "metadata": {},
   "outputs": [
    {
     "name": "stdout",
     "output_type": "stream",
     "text": [
      "test_module1.py\n",
      "안녕하세요\n"
     ]
    }
   ],
   "source": [
    "# test_module1.py 파일의 내용을 포함시킨다.\n",
    "import test_module1"
   ]
  },
  {
   "cell_type": "code",
   "execution_count": 2,
   "metadata": {},
   "outputs": [],
   "source": [
    "# import 한 모듈을 다시 import 하면 무시된다.\n",
    "# 이 때문에 모듈을 수정했다면 kernel > restart 해서 초기화 하고 \n",
    "# 실행해야 한다.\n",
    "import test_module1"
   ]
  },
  {
   "cell_type": "markdown",
   "metadata": {},
   "source": [
    "### 함수, 변수, 클래스의 사용"
   ]
  },
  {
   "cell_type": "code",
   "execution_count": 3,
   "metadata": {},
   "outputs": [],
   "source": [
    "import test_module2"
   ]
  },
  {
   "cell_type": "code",
   "execution_count": 4,
   "metadata": {},
   "outputs": [
    {
     "name": "stdout",
     "output_type": "stream",
     "text": [
      "100\n",
      "module2_function\n",
      "<test_module2.Module2Class object at 0x0000019A10D6CE20>\n"
     ]
    }
   ],
   "source": [
    "# 다른 모듈에 있는 것을 사용할 때는 모듈명.xxx 형태로 사용한다.\n",
    "print(test_module2.module2_a1)\n",
    "\n",
    "test_module2.module2_function()\n",
    "\n",
    "obj1 = test_module2.Module2Class()\n",
    "print(obj1)"
   ]
  },
  {
   "cell_type": "code",
   "execution_count": 5,
   "metadata": {},
   "outputs": [],
   "source": [
    "# 만약 모듈에 있는 요소들의 이름이 다른 모듈과 겹치지 않는다면 \n",
    "# 사용시 모듈 이름을 생략할 수 있다.\n",
    "from test_module3 import module3_a1\n",
    "from test_module3 import module3_function, Module3Class"
   ]
  },
  {
   "cell_type": "code",
   "execution_count": 7,
   "metadata": {},
   "outputs": [
    {
     "name": "stdout",
     "output_type": "stream",
     "text": [
      "100\n",
      "module3_function\n",
      "<test_module3.Module3Class object at 0x0000019A1081C730>\n"
     ]
    }
   ],
   "source": [
    "# from 절을 이용해 import 하였으므로 모듈 이름은 생략한다.\n",
    "print(module3_a1)\n",
    "\n",
    "module3_function()\n",
    "\n",
    "obj2 = Module3Class()\n",
    "print(obj2)"
   ]
  },
  {
   "cell_type": "markdown",
   "metadata": {},
   "source": [
    "- 모듈 내의 요소들(변수, 함수, 클래스 등) 중에 다수의 요소를 사용한다면\n",
    "  import 모듈명\n",
    "  \n",
    "- 모듈 내의 요소들(변수, 함수, 클래스 등) 중에 소수의 요소를 사용한다면 \n",
    "  from 모듈명 import 요소명\n",
    "  \n",
    "- 결론, 여러분들이 편하신거 쓰시면 됩니다."
   ]
  },
  {
   "cell_type": "markdown",
   "metadata": {},
   "source": [
    "### 별칭\n",
    "- 모듈 이름이 길 경우 별칭 부여해 간단하게 사용할 수 있다."
   ]
  },
  {
   "cell_type": "code",
   "execution_count": 8,
   "metadata": {},
   "outputs": [],
   "source": [
    "# as 를 통해 별칭을 부여한다.\n",
    "import test_module4 as t4"
   ]
  },
  {
   "cell_type": "code",
   "execution_count": 9,
   "metadata": {},
   "outputs": [
    {
     "name": "stdout",
     "output_type": "stream",
     "text": [
      "100\n",
      "module4_function\n",
      "<test_module4.Module4Class object at 0x0000019A10C1DB20>\n"
     ]
    }
   ],
   "source": [
    "print(t4.module4_a1)\n",
    "\n",
    "t4.module4_function()\n",
    "\n",
    "obj4 = t4.Module4Class()\n",
    "print(obj4)"
   ]
  },
  {
   "cell_type": "code",
   "execution_count": null,
   "metadata": {},
   "outputs": [],
   "source": []
  }
 ],
 "metadata": {
  "kernelspec": {
   "display_name": "Python 3",
   "language": "python",
   "name": "python3"
  },
  "language_info": {
   "codemirror_mode": {
    "name": "ipython",
    "version": 3
   },
   "file_extension": ".py",
   "mimetype": "text/x-python",
   "name": "python",
   "nbconvert_exporter": "python",
   "pygments_lexer": "ipython3",
   "version": "3.8.5"
  }
 },
 "nbformat": 4,
 "nbformat_minor": 4
}
