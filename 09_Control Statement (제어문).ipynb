{
 "cells": [
  {
   "cell_type": "markdown",
   "metadata": {},
   "source": [
    "### 제어문\n",
    "- 개발자가 작성한 코드는 위에서 아래방향으로 흘러간다.\n",
    "- 이 흐름을 변경하고 싶을 때 사용하는 것이 제어문이다."
   ]
  },
  {
   "cell_type": "markdown",
   "metadata": {},
   "source": [
    "### 들여쓰기\n",
    "- 파이썬은 어떠한 요소가 관리하는 코드는 들여쓰기로 구분한다."
   ]
  },
  {
   "cell_type": "code",
   "execution_count": 1,
   "metadata": {},
   "outputs": [
    {
     "ename": "IndentationError",
     "evalue": "unexpected indent (<ipython-input-1-dd2e1387c2a3>, line 2)",
     "output_type": "error",
     "traceback": [
      "\u001b[1;36m  File \u001b[1;32m\"<ipython-input-1-dd2e1387c2a3>\"\u001b[1;36m, line \u001b[1;32m2\u001b[0m\n\u001b[1;33m    print(\"반갑습니다\")\u001b[0m\n\u001b[1;37m    ^\u001b[0m\n\u001b[1;31mIndentationError\u001b[0m\u001b[1;31m:\u001b[0m unexpected indent\n"
     ]
    }
   ],
   "source": [
    "print(\"안녕하세요\")\n",
    " print(\"반갑습니다\")"
   ]
  },
  {
   "cell_type": "markdown",
   "metadata": {},
   "source": [
    "### if 문\n",
    "- 주어진 식의 결과가 True면 관리하는 코드가 수행된다."
   ]
  },
  {
   "cell_type": "code",
   "execution_count": 3,
   "metadata": {},
   "outputs": [
    {
     "name": "stdout",
     "output_type": "stream",
     "text": [
      "애들은 가라\n",
      "잘가~~~\n"
     ]
    }
   ],
   "source": [
    "age = 10\n",
    "\n",
    "if age < 19 :\n",
    "    print('애들은 가라')\n",
    "    print(\"잘가~~~\")\n"
   ]
  },
  {
   "cell_type": "code",
   "execution_count": 4,
   "metadata": {},
   "outputs": [],
   "source": [
    "age = 30\n",
    "\n",
    "if age < 19 :\n",
    "    print('애들은 가라')\n",
    "    print(\"잘가~~~\")\n"
   ]
  },
  {
   "cell_type": "code",
   "execution_count": 5,
   "metadata": {},
   "outputs": [
    {
     "name": "stdout",
     "output_type": "stream",
     "text": [
      "이 부분이 실행될까요??\n"
     ]
    }
   ],
   "source": [
    "a1 = 10\n",
    "\n",
    "if a1 > 10 :\n",
    "    print('a1은 10보다 큽니다')\n",
    "print('이 부분이 실행될까요??')\n"
   ]
  },
  {
   "cell_type": "code",
   "execution_count": 8,
   "metadata": {},
   "outputs": [
    {
     "name": "stdout",
     "output_type": "stream",
     "text": [
      "a1은 20보다 크지 않습니다\n"
     ]
    }
   ],
   "source": [
    "# else : if 문의 조건식이 거짓일 경우 수행될 부분\n",
    "# 조건식의 결과에 따라 무조건 한군데는 수행된다.\n",
    "\n",
    "a1 = 10\n",
    "\n",
    "if a1 > 20 :\n",
    "    print(\"a1은 20보다 큽니다\")\n",
    "else :\n",
    "    print(\"a1은 20보다 크지 않습니다\")"
   ]
  },
  {
   "cell_type": "code",
   "execution_count": 9,
   "metadata": {},
   "outputs": [
    {
     "name": "stdout",
     "output_type": "stream",
     "text": [
      "a1은 10입니다\n"
     ]
    }
   ],
   "source": [
    "# elif : else와 if를 합친 구문\n",
    "a1 = 10\n",
    "\n",
    "if a1 == 1 :\n",
    "    print('a1은 1입니다')\n",
    "elif a1 == 5 :\n",
    "    print('a1은 5입니다')\n",
    "elif a1 == 10 :\n",
    "    print('a1은 10입니다')\n",
    "elif a1 == 20 :\n",
    "    print('a1은 20입니다')\n",
    "else :\n",
    "    print('a1은 1, 5, 10, 20이 아닙니다')\n"
   ]
  },
  {
   "cell_type": "markdown",
   "metadata": {},
   "source": [
    "### while\n",
    "- 주어진 수식의 결과가 True인 경우에만 관리하는 코드가 반복된다.\n",
    "- while문의 수식이 False가 안나오면 영원히 수행될 수도 있다. 따라서 While문 내부에서 주어진 수식이 거짓이 될 수 있도록 작업을 해줘야한다."
   ]
  },
  {
   "cell_type": "code",
   "execution_count": 11,
   "metadata": {},
   "outputs": [
    {
     "name": "stdout",
     "output_type": "stream",
     "text": [
      "0\n",
      "1\n",
      "2\n",
      "3\n",
      "4\n",
      "5\n",
      "6\n",
      "7\n",
      "8\n",
      "9\n"
     ]
    }
   ],
   "source": [
    "a1 = 0\n",
    "\n",
    "while a1 < 10 :\n",
    "    print(a1)\n",
    "    a1 = a1 + 1"
   ]
  },
  {
   "cell_type": "markdown",
   "metadata": {},
   "source": [
    "### for 문\n",
    "- 주어진 데이터 관리 요소가 관리하는 데이터의 개수만큼 반복하는 반복문\n",
    "- 뒤에서 데이터 관리 요소를 학습할 때 사용해 보도록 하겠습니다~"
   ]
  },
  {
   "cell_type": "code",
   "execution_count": null,
   "metadata": {},
   "outputs": [],
   "source": []
  }
 ],
 "metadata": {
  "kernelspec": {
   "display_name": "Python 3",
   "language": "python",
   "name": "python3"
  },
  "language_info": {
   "codemirror_mode": {
    "name": "ipython",
    "version": 3
   },
   "file_extension": ".py",
   "mimetype": "text/x-python",
   "name": "python",
   "nbconvert_exporter": "python",
   "pygments_lexer": "ipython3",
   "version": "3.8.5"
  }
 },
 "nbformat": 4,
 "nbformat_minor": 4
}
