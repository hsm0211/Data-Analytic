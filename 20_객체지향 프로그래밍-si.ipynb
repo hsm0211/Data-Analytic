{
 "cells": [
  {
   "cell_type": "markdown",
   "metadata": {},
   "source": [
    "### 객체\n",
    "- 매개체 하나에 대한 데이터와 기능을 관리하는 개념\n",
    "- 객체를 생성하기 위해 클래스라는 설계도를 사용한다."
   ]
  },
  {
   "cell_type": "code",
   "execution_count": 1,
   "metadata": {},
   "outputs": [],
   "source": [
    "class TestClass1 :\n",
    "    pass"
   ]
  },
  {
   "cell_type": "code",
   "execution_count": 2,
   "metadata": {},
   "outputs": [
    {
     "name": "stdout",
     "output_type": "stream",
     "text": [
      "t1 : <__main__.TestClass1 object at 0x0000024C7C560070>\n",
      "t2 : <__main__.TestClass1 object at 0x0000024C7C560220>\n"
     ]
    }
   ],
   "source": [
    "# 객체를 생성한다.\n",
    "t1 = TestClass1()\n",
    "t2 = TestClass1()\n",
    "\n",
    "print(f't1 : {t1}')\n",
    "print(f't2 : {t2}')\n"
   ]
  },
  {
   "cell_type": "code",
   "execution_count": 3,
   "metadata": {},
   "outputs": [
    {
     "name": "stdout",
     "output_type": "stream",
     "text": [
      "100\n"
     ]
    }
   ],
   "source": [
    "# 파이썬은 객체에 변수를 추가하는 것이 가능하다.\n",
    "# 한번도 사용하지 않은 변수에 값을 넣어주면 추가된다.\n",
    "t1.a1 = 100\n",
    "print(t1.a1)\n"
   ]
  },
  {
   "cell_type": "code",
   "execution_count": 4,
   "metadata": {},
   "outputs": [
    {
     "ename": "NameError",
     "evalue": "name 'a1' is not defined",
     "output_type": "error",
     "traceback": [
      "\u001b[1;31m---------------------------------------------------------------------------\u001b[0m",
      "\u001b[1;31mNameError\u001b[0m                                 Traceback (most recent call last)",
      "\u001b[1;32m<ipython-input-4-bd9e56d2a7f1>\u001b[0m in \u001b[0;36m<module>\u001b[1;34m\u001b[0m\n\u001b[0;32m      1\u001b[0m \u001b[1;31m#객체는 독립적으로 관리되기 때문에 같은클래스로 객체를 생성했다 하더라도\u001b[0m\u001b[1;33m\u001b[0m\u001b[1;33m\u001b[0m\u001b[1;33m\u001b[0m\u001b[0m\n\u001b[0;32m      2\u001b[0m \u001b[1;31m#서로간에 영향을 주지 않는다.\u001b[0m\u001b[1;33m\u001b[0m\u001b[1;33m\u001b[0m\u001b[1;33m\u001b[0m\u001b[0m\n\u001b[1;32m----> 3\u001b[1;33m \u001b[0mprint\u001b[0m\u001b[1;33m(\u001b[0m\u001b[0mt2\u001b[0m\u001b[1;33m,\u001b[0m\u001b[0ma1\u001b[0m\u001b[1;33m)\u001b[0m\u001b[1;33m\u001b[0m\u001b[1;33m\u001b[0m\u001b[0m\n\u001b[0m",
      "\u001b[1;31mNameError\u001b[0m: name 'a1' is not defined"
     ]
    }
   ],
   "source": [
    "#객체는 독립적으로 관리되기 때문에 같은클래스로 객체를 생성했다 하더라도\n",
    "#서로간에 영향을 주지 않는다.\n",
    "print(t2,a1)"
   ]
  },
  {
   "cell_type": "markdown",
   "metadata": {},
   "source": [
    "### 객체의 맴버\n",
    "- 객체가 가지고 있는 구성 요소\n",
    "- 변수 : 맴버 변수\n",
    "- 함수 : 맴버 메서드\n"
   ]
  },
  {
   "cell_type": "code",
   "execution_count": 5,
   "metadata": {},
   "outputs": [],
   "source": [
    "class TestClass2 :\n",
    "    \n",
    "    # 생성자 메서드\n",
    "    # 객체가 생성되면 자동으로 호출되는 메서드\n",
    "    def __init__(self) :\n",
    "        print('init 호출')\n",
    "        print(self)"
   ]
  },
  {
   "cell_type": "code",
   "execution_count": 6,
   "metadata": {},
   "outputs": [
    {
     "name": "stdout",
     "output_type": "stream",
     "text": [
      "init 호출\n",
      "<__main__.TestClass2 object at 0x0000024C7C560E80>\n",
      "init 호출\n",
      "<__main__.TestClass2 object at 0x0000024C7C5608E0>\n"
     ]
    }
   ],
   "source": [
    "t3 = TestClass2()\n",
    "t4 = TestClass2()\n"
   ]
  },
  {
   "cell_type": "code",
   "execution_count": 13,
   "metadata": {},
   "outputs": [],
   "source": [
    "class TestClass2 :\n",
    "    \n",
    "    # 생성자 메서드\n",
    "    # 객체가 생성되면 자동으로 호출되는 메서드\n",
    "    # 파이썬에서는 클래스에 정의하는 모든 메서드는 첫 번째 매개변수로\n",
    "    # 메서드를 호출할 때 사용한 객체의 주소값이 들어온다.\n",
    "    # 이를 이용해 객체에 맴버 변수를 추가하는 작업을 해준다.\n",
    "    def __init__(self) :\n",
    "        print('init 호출')\n",
    "        print(self)\n",
    "        self.a1 = 100\n",
    "        self.a2 = 200\n"
   ]
  },
  {
   "cell_type": "code",
   "execution_count": 14,
   "metadata": {},
   "outputs": [
    {
     "ename": "SyntaxError",
     "evalue": "invalid syntax (<ipython-input-14-45952709b50d>, line 7)",
     "output_type": "error",
     "traceback": [
      "\u001b[1;36m  File \u001b[1;32m\"<ipython-input-14-45952709b50d>\"\u001b[1;36m, line \u001b[1;32m7\u001b[0m\n\u001b[1;33m    def getTotal(self)\u001b[0m\n\u001b[1;37m                      ^\u001b[0m\n\u001b[1;31mSyntaxError\u001b[0m\u001b[1;31m:\u001b[0m invalid syntax\n"
     ]
    }
   ],
   "source": [
    "# 객체를 생성할 때 값을 받는다.\n",
    "class TestClass3 :\n",
    "    \n",
    "    def __init__(self, v1, v2) :\n",
    "        self.a1 = v1\n",
    "        self.a2 = v2\n",
    "    def getTotal(self)"
   ]
  },
  {
   "cell_type": "code",
   "execution_count": 9,
   "metadata": {},
   "outputs": [
    {
     "ename": "NameError",
     "evalue": "name 'TestClass3' is not defined",
     "output_type": "error",
     "traceback": [
      "\u001b[1;31m---------------------------------------------------------------------------\u001b[0m",
      "\u001b[1;31mNameError\u001b[0m                                 Traceback (most recent call last)",
      "\u001b[1;32m<ipython-input-9-c910e0132b72>\u001b[0m in \u001b[0;36m<module>\u001b[1;34m\u001b[0m\n\u001b[1;32m----> 1\u001b[1;33m \u001b[0mt5\u001b[0m \u001b[1;33m=\u001b[0m \u001b[0mTestClass3\u001b[0m\u001b[1;33m(\u001b[0m\u001b[1;36m100\u001b[0m\u001b[1;33m,\u001b[0m \u001b[1;36m200\u001b[0m\u001b[1;33m)\u001b[0m\u001b[1;33m\u001b[0m\u001b[1;33m\u001b[0m\u001b[0m\n\u001b[0m\u001b[0;32m      2\u001b[0m \u001b[0mt6\u001b[0m \u001b[1;33m=\u001b[0m \u001b[0mTestClass3\u001b[0m\u001b[1;33m(\u001b[0m\u001b[1;36m1000\u001b[0m\u001b[1;33m,\u001b[0m \u001b[1;36m2000\u001b[0m\u001b[1;33m)\u001b[0m\u001b[1;33m\u001b[0m\u001b[1;33m\u001b[0m\u001b[0m\n\u001b[0;32m      3\u001b[0m \u001b[1;33m\u001b[0m\u001b[0m\n\u001b[0;32m      4\u001b[0m \u001b[0mprint\u001b[0m\u001b[1;33m(\u001b[0m\u001b[0mt5\u001b[0m\u001b[1;33m.\u001b[0m\u001b[0ma1\u001b[0m\u001b[1;33m)\u001b[0m\u001b[1;33m\u001b[0m\u001b[1;33m\u001b[0m\u001b[0m\n\u001b[0;32m      5\u001b[0m \u001b[0mprint\u001b[0m\u001b[1;33m(\u001b[0m\u001b[0mt5\u001b[0m\u001b[1;33m.\u001b[0m\u001b[0ma2\u001b[0m\u001b[1;33m)\u001b[0m\u001b[1;33m\u001b[0m\u001b[1;33m\u001b[0m\u001b[0m\n",
      "\u001b[1;31mNameError\u001b[0m: name 'TestClass3' is not defined"
     ]
    }
   ],
   "source": [
    "t5 = TestClass3(100, 200)\n",
    "t6 = TestClass3(1000, 2000)\n",
    "\n",
    "print(t5.a1)\n",
    "print(t5.a2)\n",
    "print(t6.a1)\n",
    "print(t6.a2)\n",
    "\n",
    "v1 = t5.getTotal()\n",
    "v2 = t6.getTotal()\n",
    "\n",
    "print(v1)\n",
    "print(v2)\n"
   ]
  },
  {
   "cell_type": "markdown",
   "metadata": {},
   "source": [
    "### ------------------\n",
    "### 클래스 맴버\n",
    "- 객체가 아닌 클래스가 관리하는 변수와 함수\n",
    "- 객체가 아닌 클래스를 통해 접근 한다.\n"
   ]
  },
  {
   "cell_type": "code",
   "execution_count": null,
   "metadata": {},
   "outputs": [],
   "source": [
    "class TestClass4 :\n",
    "    \n",
    "    def __init__(self, a1, a2) :\n",
    "        self.v1 = a1\n",
    "        self.v2 = a2\n",
    "        \n",
    "    def testMethod1() :\n",
    "        print(\"testMethod1\")\n",
    "        \n",
    "    def testMethod2(self) :\n",
    "        print(\"testMethod2\")\n"
   ]
  },
  {
   "cell_type": "code",
   "execution_count": null,
   "metadata": {},
   "outputs": [],
   "source": [
    "t10 = TestClass4(10, 20)\n",
    "t20 = TestClass4(100, 200)\n"
   ]
  },
  {
   "cell_type": "code",
   "execution_count": null,
   "metadata": {},
   "outputs": [],
   "source": [
    "# t10을 통한 메서드를 호출\n",
    "# 객체를 통해 호출하였으므로 첫 번째 매개변수에 객체의 주소값이 들어간다.\n",
    "# testMethod2의 첫 번째 매개변수인 self에 객체의 주소값이 들어간다.\n",
    "t10.testMethod2()"
   ]
  },
  {
   "cell_type": "code",
   "execution_count": null,
   "metadata": {},
   "outputs": [],
   "source": []
  },
  {
   "cell_type": "code",
   "execution_count": null,
   "metadata": {},
   "outputs": [],
   "source": [
    "# t10을 통해 메서드를 호출 하였기 때문에 객체의 주소값이 전달된다.\n",
    "# 허나 testMethod1은 매개변수가 정의된것이 없기 때문에 오류가 발생한다.\n",
    "t10.testMethod1()\n"
   ]
  },
  {
   "cell_type": "code",
   "execution_count": null,
   "metadata": {},
   "outputs": [],
   "source": [
    "# 클래스의 이름으로 호출\n",
    "TestClass4.testMethod1()"
   ]
  },
  {
   "cell_type": "code",
   "execution_count": 15,
   "metadata": {},
   "outputs": [],
   "source": [
    "# 클래스 변수\n",
    "class TestClass5 : \n",
    "    value1 = 100\n",
    "    value2 = 200\n",
    "    \n",
    "    def __init__(self, k1, k2) :\n",
    "        self.a1 = k1\n",
    "        self.a2 = k2\n"
   ]
  },
  {
   "cell_type": "code",
   "execution_count": 16,
   "metadata": {},
   "outputs": [],
   "source": [
    "t100 = TestClass5(100, 200)\n",
    "t200 = TestClass5(1000, 2000)\n"
   ]
  },
  {
   "cell_type": "code",
   "execution_count": 17,
   "metadata": {},
   "outputs": [
    {
     "name": "stdout",
     "output_type": "stream",
     "text": [
      "1000\n",
      "1000\n",
      "1000\n"
     ]
    }
   ],
   "source": [
    "# 클래스 이름을 통해 변수 값을 변경한다.\n",
    "TestClass5.value1 = 1000\n",
    "print(t100.value1)\n",
    "print(t200.value1)\n",
    "print(TestClass5.value1)\n"
   ]
  },
  {
   "cell_type": "code",
   "execution_count": null,
   "metadata": {},
   "outputs": [],
   "source": [
    "# 객체를 통해 value1 변수 값을 변경한다.\n",
    "t100.value1 = 5000\n",
    "print(TestClass5.value1)\n",
    "print(t100.value1)\n",
    "print(t200.value1)\n"
   ]
  }
 ],
 "metadata": {
  "kernelspec": {
   "display_name": "Python 3",
   "language": "python",
   "name": "python3"
  },
  "language_info": {
   "codemirror_mode": {
    "name": "ipython",
    "version": 3
   },
   "file_extension": ".py",
   "mimetype": "text/x-python",
   "name": "python",
   "nbconvert_exporter": "python",
   "pygments_lexer": "ipython3",
   "version": "3.8.5"
  }
 },
 "nbformat": 4,
 "nbformat_minor": 4
}
