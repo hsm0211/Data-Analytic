{
 "cells": [
  {
   "cell_type": "code",
   "execution_count": null,
   "metadata": {},
   "outputs": [],
   "source": [
    "print(\"Hello World\")"
   ]
  },
  {
   "cell_type": "markdown",
   "metadata": {},
   "source": [
    "### 주피터 모드 ###\n",
    "- command mode(esc) : cell 들을 관리하는 모드\n",
    "- edit mode(enter, 마우스 클릭) : cell 내부에 작성할 수 있는 모드\n",
    "--- \n",
    "- 공통\n",
    "- shift + enter : 실행 후 다음 셀로 이동한다. 셀이 없으면 셀을 추가한다.\n",
    "- ctrl + enter : 실행 후 다음 셀로 이동하지 않는다.\n",
    "- 위/아래 방향키 : 셀을 이동한다. edit mode일 경우 제일 마지막이나 제일 처음에 있을때 이동한다.\n",
    "---\n",
    "- command mode\n",
    "- a : 현재 셀 상단에 셀을 추가하고 이동한다.\n",
    "- b : 현재 셀 하단에 셀을 추가하고 이동한다.\n",
    "- dd : 현재 셀을 삭제한다.\n",
    "- m : Markdown mode로 변경한다 (설명을 작성)\n",
    "- y : code mode로 변경한다(Python code를 작성)"
   ]
  },
  {
   "cell_type": "markdown",
   "metadata": {},
   "source": [
    "# 제목1\n",
    "## 제목2\n",
    "### 제목3\n",
    "#### 제목4\n",
    "##### 제목5"
   ]
  },
  {
   "cell_type": "markdown",
   "metadata": {},
   "source": [
    "동해물과 <span style='color:red'>백두산이</span> 마르고 닳도록"
   ]
  },
  {
   "cell_type": "code",
   "execution_count": null,
   "metadata": {},
   "outputs": [],
   "source": []
  },
  {
   "cell_type": "code",
   "execution_count": null,
   "metadata": {
    "scrolled": false
   },
   "outputs": [],
   "source": []
  },
  {
   "cell_type": "markdown",
   "metadata": {},
   "source": [
    "$ a^2 + b^2 = c^2 $"
   ]
  },
  {
   "cell_type": "markdown",
   "metadata": {},
   "source": [
    "aaaaaaaaaaaaaaaaaaa"
   ]
  },
  {
   "cell_type": "markdown",
   "metadata": {},
   "source": [
    "### 세미콜론\n",
    "- 대부분 프로그래밍 언어는 문장의 마지막에 세미콜론(;)을 찍어줘야 한다.\n",
    "- 파이썬은 선택사항이다.\n"
   ]
  },
  {
   "cell_type": "code",
   "execution_count": 3,
   "metadata": {},
   "outputs": [
    {
     "name": "stdout",
     "output_type": "stream",
     "text": [
      "세미콜론 안찍음\n",
      "세미콜론 찍음\n"
     ]
    }
   ],
   "source": [
    "print('세미콜론 안찍음')\n",
    "print('세미콜론 찍음');\n"
   ]
  },
  {
   "cell_type": "code",
   "execution_count": 1,
   "metadata": {
    "scrolled": true
   },
   "outputs": [
    {
     "name": "stdout",
     "output_type": "stream",
     "text": [
      "문자열1\n",
      "문자열2\n",
      "문자열3\n"
     ]
    }
   ],
   "source": [
    "print('문자열1'); print('문자열2'); print('문자열3')\n"
   ]
  },
  {
   "cell_type": "markdown",
   "metadata": {},
   "source": [
    "### 주석\n",
    "- 실행시 무시되는 부분이다.\n",
    "- 실행 중에 건너 띄는 부분이다.\n",
    "- 설명을 작성하거나 코드 일부분을 수행시키고 싶지 않을 경우\n",
    "- 한 줄 주석만 제공된다.\n"
   ]
  },
  {
   "cell_type": "markdown",
   "metadata": {},
   "source": [
    "### 문자열\n",
    "- 문자열을 작은 따옴표(''), 큰 따옴표(\"\") 모두 같은 문자열이다.\n"
   ]
  },
  {
   "cell_type": "code",
   "execution_count": 5,
   "metadata": {},
   "outputs": [
    {
     "name": "stdout",
     "output_type": "stream",
     "text": [
      "문자열\n",
      "문자열\n"
     ]
    }
   ],
   "source": [
    "print('문자열')\n",
    "print(\"문자열\")\n"
   ]
  },
  {
   "cell_type": "markdown",
   "metadata": {},
   "source": [
    "### 출력\n",
    "- print를 사용하면 출력하고 밑으로 내려준다.\n",
    "- 값을 마지막에 작성하면 출력해준다.\n"
   ]
  },
  {
   "cell_type": "code",
   "execution_count": 6,
   "metadata": {},
   "outputs": [
    {
     "name": "stdout",
     "output_type": "stream",
     "text": [
      "문자열1\n",
      "100\n"
     ]
    }
   ],
   "source": [
    "print('문자열1')\n",
    "print(100)\n"
   ]
  },
  {
   "cell_type": "code",
   "execution_count": 8,
   "metadata": {},
   "outputs": [
    {
     "data": {
      "text/plain": [
       "100"
      ]
     },
     "execution_count": 8,
     "metadata": {},
     "output_type": "execute_result"
    }
   ],
   "source": [
    "'문자열'\n",
    "100"
   ]
  },
  {
   "cell_type": "code",
   "execution_count": 9,
   "metadata": {},
   "outputs": [
    {
     "name": "stdout",
     "output_type": "stream",
     "text": [
      "문자열1\n"
     ]
    },
    {
     "data": {
      "text/plain": [
       "'문자열1'"
      ]
     },
     "execution_count": 9,
     "metadata": {},
     "output_type": "execute_result"
    }
   ],
   "source": [
    "print('문자열1')\n",
    "'문자열1'\n"
   ]
  },
  {
   "cell_type": "code",
   "execution_count": 10,
   "metadata": {},
   "outputs": [
    {
     "data": {
      "text/plain": [
       "'문자열1'"
      ]
     },
     "metadata": {},
     "output_type": "display_data"
    },
    {
     "data": {
      "text/plain": [
       "'문자열2'"
      ]
     },
     "metadata": {},
     "output_type": "display_data"
    }
   ],
   "source": [
    "# 마지막에 값만 작성하는 방식으로 여러 가지를 출력하고 싶다면\n",
    "display('문자열1')\n",
    "display('문자열2')\n"
   ]
  },
  {
   "cell_type": "code",
   "execution_count": null,
   "metadata": {},
   "outputs": [],
   "source": []
  }
 ],
 "metadata": {
  "kernelspec": {
   "display_name": "Python 3",
   "language": "python",
   "name": "python3"
  },
  "language_info": {
   "codemirror_mode": {
    "name": "ipython",
    "version": 3
   },
   "file_extension": ".py",
   "mimetype": "text/x-python",
   "name": "python",
   "nbconvert_exporter": "python",
   "pygments_lexer": "ipython3",
   "version": "3.8.5"
  }
 },
 "nbformat": 4,
 "nbformat_minor": 4
}
