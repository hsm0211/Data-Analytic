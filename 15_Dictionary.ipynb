{
 "cells": [
  {
   "cell_type": "markdown",
   "metadata": {},
   "source": [
    "### Dictionary\n",
    "- 데이터를 이름으로 관리하는 개념이다.\n",
    "- 순서에 대한 개념은 없다.\n",
    "- 데이터의 이름은 문자열이 아니어도 된다.\n"
   ]
  },
  {
   "cell_type": "code",
   "execution_count": 1,
   "metadata": {},
   "outputs": [
    {
     "name": "stdout",
     "output_type": "stream",
     "text": [
      "<class 'dict'>\n",
      "{}\n"
     ]
    }
   ],
   "source": [
    "d1 = dict()\n",
    "print(type(d1))\n",
    "print(d1)\n"
   ]
  },
  {
   "cell_type": "code",
   "execution_count": 2,
   "metadata": {},
   "outputs": [
    {
     "name": "stdout",
     "output_type": "stream",
     "text": [
      "<class 'dict'>\n",
      "{}\n"
     ]
    }
   ],
   "source": [
    "d2 = {}\n",
    "print(type(d2))\n",
    "print(d2)\n"
   ]
  },
  {
   "cell_type": "code",
   "execution_count": 3,
   "metadata": {},
   "outputs": [
    {
     "name": "stdout",
     "output_type": "stream",
     "text": [
      "<class 'dict'>\n",
      "{'값1': 100, '값2': 11.11, '값3': True, '값4': '문자열'}\n"
     ]
    }
   ],
   "source": [
    "d3 = {\n",
    "    '값1' : 100,\n",
    "    '값2' : 11.11,\n",
    "    '값3' : True,\n",
    "    '값4' : '문자열'\n",
    "}\n",
    "\n",
    "print(type(d3))\n",
    "print(d3)\n"
   ]
  },
  {
   "cell_type": "code",
   "execution_count": 4,
   "metadata": {},
   "outputs": [
    {
     "name": "stdout",
     "output_type": "stream",
     "text": [
      "100\n",
      "11.11\n"
     ]
    }
   ],
   "source": [
    "# 값을 가지고 온다.\n",
    "a1 = d3['값1']\n",
    "print(a1)\n",
    "\n",
    "a2 = d3.get('값2')\n",
    "print(a2)\n"
   ]
  },
  {
   "cell_type": "code",
   "execution_count": 5,
   "metadata": {},
   "outputs": [
    {
     "ename": "KeyError",
     "evalue": "'값100'",
     "output_type": "error",
     "traceback": [
      "\u001b[1;31m---------------------------------------------------------------------------\u001b[0m",
      "\u001b[1;31mKeyError\u001b[0m                                  Traceback (most recent call last)",
      "\u001b[1;32m<ipython-input-5-a372a623f008>\u001b[0m in \u001b[0;36m<module>\u001b[1;34m\u001b[0m\n\u001b[0;32m      1\u001b[0m \u001b[1;31m# 없는 이름을 사용할 경우\u001b[0m\u001b[1;33m\u001b[0m\u001b[1;33m\u001b[0m\u001b[1;33m\u001b[0m\u001b[0m\n\u001b[1;32m----> 2\u001b[1;33m \u001b[0ma3\u001b[0m \u001b[1;33m=\u001b[0m \u001b[0md3\u001b[0m\u001b[1;33m[\u001b[0m\u001b[1;34m'값100'\u001b[0m\u001b[1;33m]\u001b[0m\u001b[1;33m\u001b[0m\u001b[1;33m\u001b[0m\u001b[0m\n\u001b[0m\u001b[0;32m      3\u001b[0m \u001b[0mprint\u001b[0m\u001b[1;33m(\u001b[0m\u001b[0ma3\u001b[0m\u001b[1;33m)\u001b[0m\u001b[1;33m\u001b[0m\u001b[1;33m\u001b[0m\u001b[0m\n",
      "\u001b[1;31mKeyError\u001b[0m: '값100'"
     ]
    }
   ],
   "source": [
    "# 없는 이름을 사용할 경우\n",
    "a3 = d3['값100']\n",
    "print(a3)\n"
   ]
  },
  {
   "cell_type": "code",
   "execution_count": 6,
   "metadata": {},
   "outputs": [
    {
     "name": "stdout",
     "output_type": "stream",
     "text": [
      "None\n"
     ]
    }
   ],
   "source": [
    "a4 = d3.get('값100')\n",
    "print(a4)\n"
   ]
  },
  {
   "cell_type": "code",
   "execution_count": 7,
   "metadata": {},
   "outputs": [
    {
     "name": "stdout",
     "output_type": "stream",
     "text": [
      "{'값1': 100, '값2': 11.11, '값3': True, '값4': '문자열'}\n",
      "{'값1': 1000, '값2': 11.11, '값3': True, '값4': '문자열'}\n"
     ]
    }
   ],
   "source": [
    "# 값 변경\n",
    "print(d3)\n",
    "\n",
    "d3['값1'] = 1000\n",
    "print(d3)\n"
   ]
  },
  {
   "cell_type": "code",
   "execution_count": 8,
   "metadata": {},
   "outputs": [
    {
     "name": "stdout",
     "output_type": "stream",
     "text": [
      "{'값1': 1000, '값2': 11.11, '값3': True, '값4': '문자열', '값100': 10000}\n"
     ]
    }
   ],
   "source": [
    "# 값 추가\n",
    "# 없는 이름으로 값을 넣어주면 추가된다.\n",
    "d3['값100'] = 10000\n",
    "print(d3)\n"
   ]
  },
  {
   "cell_type": "code",
   "execution_count": 9,
   "metadata": {},
   "outputs": [
    {
     "name": "stdout",
     "output_type": "stream",
     "text": [
      "{'값1': 1000, '값2': 11.11, '값3': True, '값4': '문자열'}\n"
     ]
    }
   ],
   "source": [
    "# 삭제\n",
    "del d3['값100']\n",
    "print(d3)\n"
   ]
  },
  {
   "cell_type": "code",
   "execution_count": null,
   "metadata": {},
   "outputs": [],
   "source": []
  }
 ],
 "metadata": {
  "kernelspec": {
   "display_name": "Python 3",
   "language": "python",
   "name": "python3"
  },
  "language_info": {
   "codemirror_mode": {
    "name": "ipython",
    "version": 3
   },
   "file_extension": ".py",
   "mimetype": "text/x-python",
   "name": "python",
   "nbconvert_exporter": "python",
   "pygments_lexer": "ipython3",
   "version": "3.8.5"
  }
 },
 "nbformat": 4,
 "nbformat_minor": 4
}
