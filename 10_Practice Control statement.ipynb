{
 "cells": [
  {
   "cell_type": "markdown",
   "metadata": {},
   "source": [
    "### 사용자에게 숫자를 입력받아 3의 배수인지 아닌지를 파악한다.\n",
    " \n",
    "숫자를 입력해주세요 : 10 <br/>\n",
    "3의 배수가 아닙니다\n",
    "\n",
    "숫자를 입력해주세요 : 3 <br/>\n",
    "3의 배수입니다."
   ]
  },
  {
   "cell_type": "code",
   "execution_count": 3,
   "metadata": {},
   "outputs": [
    {
     "name": "stdout",
     "output_type": "stream",
     "text": [
      "입력 : 하하하\n",
      "하하하\n"
     ]
    }
   ],
   "source": [
    "a1 = input(\"입력 : \")\n",
    "print(a1)"
   ]
  },
  {
   "cell_type": "code",
   "execution_count": 8,
   "metadata": {},
   "outputs": [
    {
     "ename": "SyntaxError",
     "evalue": "invalid syntax (<ipython-input-8-14db20e8fcce>, line 6)",
     "output_type": "error",
     "traceback": [
      "\u001b[1;36m  File \u001b[1;32m\"<ipython-input-8-14db20e8fcce>\"\u001b[1;36m, line \u001b[1;32m6\u001b[0m\n\u001b[1;33m    if a1 % 3 == 0 : -----------------------1-----------\u001b[0m\n\u001b[1;37m                                                        ^\u001b[0m\n\u001b[1;31mSyntaxError\u001b[0m\u001b[1;31m:\u001b[0m invalid syntax\n"
     ]
    }
   ],
   "source": [
    "### 사용자에게 입력을 받는다.\n",
    "a1 = input(\"숫자를 입력해주세요 : \")\n",
    "# print(a1)\n",
    "# 입력받은 숫자가 3의 배수인지 확인한다.\n",
    "# 결과를 출력한다.\n",
    "if a1 % 3 == 0 : -----------------------1-----------\n",
    "    print(\"3의 배수입니다\")\n",
    "else :\n",
    "    print(\"3의 배수가 아닙니다\")\n",
    "\n",
    "숫자를 입력해주세요 : 100\n",
    "---------------------------------------------------------------------------\n",
    "TypeError                                 Traceback (most recent call last)\n",
    "<ipython-input-6-e633555e466c> in <module>\n",
    "      4 # 입력받은 숫자가 3의 배수인지 확인한다.\n",
    "      5 # 결과를 출력한다.\n",
    "----> 6 if a1 % 3 == 0 :\n",
    "      7     print(\"3의 배수입니다\")\n",
    "      8 else :\n",
    "\n",
    "TypeError: not all arguments converted during string formatting\n",
    "\n",
    "라고 에러가 뜬다\n",
    "\n",
    "이는 if a1 % 3 == 0 :에서 a1 <---- 이게 문자 포멧이 아니기 때문에 int(a1)로 바꿔야\n",
    "    에러가 나오지 않는다\n"
   ]
  },
  {
   "cell_type": "code",
   "execution_count": 10,
   "metadata": {},
   "outputs": [
    {
     "name": "stdout",
     "output_type": "stream",
     "text": [
      "숫자를 입력해주세요 : 33\n",
      "3의 배수입니다\n"
     ]
    }
   ],
   "source": [
    "# 사용자에게 입력을 받는다.\n",
    "a1 = input(\"숫자를 입력해주세요 : \")\n",
    "# print(a1)\n",
    "# 입력받은 숫자가 3의 배수인지 확인한다.\n",
    "# 결과를 출력한다.\n",
    "if int(a1) % 3 == 0 :\n",
    "    print(\"3의 배수입니다\")\n",
    "else :\n",
    "    print(\"3의 배수가 아닙니다\")\n"
   ]
  },
  {
   "cell_type": "code",
   "execution_count": null,
   "metadata": {},
   "outputs": [],
   "source": []
  },
  {
   "cell_type": "code",
   "execution_count": null,
   "metadata": {},
   "outputs": [],
   "source": []
  }
 ],
 "metadata": {
  "kernelspec": {
   "display_name": "Python 3",
   "language": "python",
   "name": "python3"
  },
  "language_info": {
   "codemirror_mode": {
    "name": "ipython",
    "version": 3
   },
   "file_extension": ".py",
   "mimetype": "text/x-python",
   "name": "python",
   "nbconvert_exporter": "python",
   "pygments_lexer": "ipython3",
   "version": "3.8.5"
  }
 },
 "nbformat": 4,
 "nbformat_minor": 4
}
