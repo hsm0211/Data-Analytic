{
 "cells": [
  {
   "cell_type": "markdown",
   "metadata": {},
   "source": [
    "### 학생 5명의 데이터를 받아 출력한다.\n",
    "- 학생의 데이터는 이름, 국어점수, 영어점수, 수학점수로 한다.\n",
    "- 입력이 완료되면 모든 학생의 정보를 출력한다.\n",
    "- 각 점수별 총점과 평균을 출력한다.\n"
   ]
  },
  {
   "cell_type": "code",
   "execution_count": null,
   "metadata": {},
   "outputs": [],
   "source": [
    "# 학생 정보를 입력받는다."
   ]
  },
  {
   "cell_type": "markdown",
   "metadata": {},
   "source": [
    "### ctrl + shift + - 키 누름 셀 분할해줌###"
   ]
  },
  {
   "cell_type": "code",
   "execution_count": null,
   "metadata": {},
   "outputs": [],
   "source": [
    "# 학생 정보를 입력받는다.\n",
    "# 학생 전체의 데이터를 담을 리스트\n",
    "studentList = []\n",
    "\n",
    "# 5번 반복한다.\n",
    "for _ in range(5) :\n",
    "    name1 = input('이름을 입력해주세요 : ')\n",
    "    \n",
    "    a1 = input('국어 점수를 입력해주세요 : ')\n",
    "    kor1 = int(a1)\n",
    "    \n",
    "    a2 = input('영어 점수를 입력해주세요 : ')\n",
    "    eng1 = int(a2)\n",
    "    \n",
    "    a3 = input('수학 점수를 입력해주세요 : ')\n",
    "    math1 = int(a3)\n",
    "\n",
    "    # 데이터를 담는다.\n",
    "    d1 = {\n",
    "        'name' : name1,\n",
    "        'kor' : kor1,\n",
    "        'eng' : eng1,\n",
    "        'math' : math1\n",
    "    }\n",
    "    \n",
    "    # 리스트에 담는다.\n",
    "    studentList.append(d1)\n",
    "    \n",
    "print(studentList)\n",
    "\n",
    "#     print(name1)\n",
    "#     print(kor1)\n",
    "#     print(eng1)\n",
    "#     print(math1)\n",
    "# 주석 처리 하는 방법 : ctrl + /"
   ]
  },
  {
   "cell_type": "code",
   "execution_count": null,
   "metadata": {},
   "outputs": [],
   "source": [
    "# 각 점수별 총점과 평균을 구한다.\n",
    "# 총점과 평균을 담을 변수\n",
    "kor_total = 0\n",
    "eng_total = 0\n",
    "math_total = 0\n",
    "\n",
    "kor_avg = 0\n",
    "eng_avg = 0\n",
    "math_avg = 0\n",
    "\n",
    "# 학생의 수 만큼 반복한다.\n",
    "for s1 in studentList :\n",
    "    # 총점을 구한다.\n",
    "    kor_total = kor_total + s1['kor']\n",
    "    eng_total = eng_total + s1['eng']\n",
    "    math_total = math_total + s1['math']\n",
    "    \n",
    "# 평균을 구한다.\n",
    "kor_avg = kor_total // len(studentList)\n",
    "eng_avg = eng_total // len(studentList)\n",
    "math_avg = math_total // len(studentList)\n",
    "\n"
   ]
  },
  {
   "cell_type": "code",
   "execution_count": null,
   "metadata": {},
   "outputs": [],
   "source": [
    "# 학생들의 정보를 출력한다.\n",
    "# 학생 수 만큼 반복한다.\n",
    "for s1 in studentList :\n",
    "    print(s1['name'])\n",
    "    print(s1['kor'])\n",
    "    print(s1['eng'])\n",
    "    print(s1['math'])\n",
    "    print()\n"
   ]
  },
  {
   "cell_type": "code",
   "execution_count": null,
   "metadata": {},
   "outputs": [],
   "source": [
    "# 총점과 평균을 출력한다.\n",
    "print('과목별 총점')\n",
    "print(kor_total)\n",
    "print(eng_total)\n",
    "print(math_total)\n",
    "print()\n",
    "print('과목별 평균')\n",
    "print(kor_avg)\n",
    "print(eng_avg)\n",
    "print(math_avg)\n"
   ]
  }
 ],
 "metadata": {
  "kernelspec": {
   "display_name": "Python 3",
   "language": "python",
   "name": "python3"
  },
  "language_info": {
   "codemirror_mode": {
    "name": "ipython",
    "version": 3
   },
   "file_extension": ".py",
   "mimetype": "text/x-python",
   "name": "python",
   "nbconvert_exporter": "python",
   "pygments_lexer": "ipython3",
   "version": "3.8.5"
  }
 },
 "nbformat": 4,
 "nbformat_minor": 4
}
