{
 "cells": [
  {
   "cell_type": "markdown",
   "metadata": {},
   "source": [
    "### 함수\n",
    "- 자주 반복되는 코드나 어떠한 기능의 코드를 미리 만들어 놓고 필요할 때 사용하는 개념\n",
    "- 유지 보수의 용이성이나 코드 관리의 용이성을 위해 사용한다."
   ]
  },
  {
   "cell_type": "markdown",
   "metadata": {},
   "source": [
    "### 기본 함수\n",
    "- 함수를 생성할 때는 \"def 함수이름 :\" 을 사용한다.\n",
    "- 함수를 호출(사용)할 때는 \"함수이름()\"를 사용한다."
   ]
  },
  {
   "cell_type": "code",
   "execution_count": 1,
   "metadata": {},
   "outputs": [],
   "source": [
    "# 함수를 정의한다.\n",
    "\n",
    "def test1() :\n",
    "    print(\"test1 함수\")\n",
    "    print(\"안녕하세요\")"
   ]
  },
  {
   "cell_type": "code",
   "execution_count": 2,
   "metadata": {},
   "outputs": [
    {
     "name": "stdout",
     "output_type": "stream",
     "text": [
      "test1 함수\n",
      "안녕하세요\n"
     ]
    }
   ],
   "source": [
    "# 함수를 호출한다.\n",
    "test1()"
   ]
  },
  {
   "cell_type": "code",
   "execution_count": 3,
   "metadata": {},
   "outputs": [
    {
     "name": "stdout",
     "output_type": "stream",
     "text": [
      "test1 함수\n",
      "안녕하세요\n"
     ]
    }
   ],
   "source": [
    "# 함수를 정의할 때 사용한 이름은 함수의 주소값을 가지고 있는 변수에 해당한다\n",
    "test2 = test1\n",
    "test2()\n"
   ]
  },
  {
   "cell_type": "code",
   "execution_count": 8,
   "metadata": {},
   "outputs": [],
   "source": [
    "# 함수의 이름은 변수에 해당하기 때문에 다른 값을 넣을 수 있다.\n",
    "# 이 때, 함수가 아닌 다른 것을 넣어주면 함수가 아니기 때문에 호출하는 코드를\n",
    "# 작성해서 수행하면 오류가 발생한다.\n",
    "#test1 = 100\n",
    "#test1()\n"
   ]
  },
  {
   "cell_type": "markdown",
   "metadata": {},
   "source": [
    "### 함수의 매개변수\n",
    "- 함수를 호출 할 때 넘겨주는 값을 받는 변수\n",
    "- 함수를 정의할 때 설정한 매개 변수의 개수 만큼 값을 함수 호출 시 지정해야 한다.\n"
   ]
  },
  {
   "cell_type": "code",
   "execution_count": 9,
   "metadata": {},
   "outputs": [
    {
     "name": "stdout",
     "output_type": "stream",
     "text": [
      "10\n",
      "20\n",
      "30\n",
      "100\n",
      "200\n",
      "300\n"
     ]
    }
   ],
   "source": [
    "def test2(a1, a2, a3) :\n",
    "    print(a1)\n",
    "    print(a2)\n",
    "    print(a3)\n",
    "# 함수 호출\n",
    "test2(10, 20, 30)\n",
    "test2(100, 200, 300)\n"
   ]
  },
  {
   "cell_type": "code",
   "execution_count": 10,
   "metadata": {},
   "outputs": [
    {
     "ename": "TypeError",
     "evalue": "test2() missing 1 required positional argument: 'a3'",
     "output_type": "error",
     "traceback": [
      "\u001b[1;31m---------------------------------------------------------------------------\u001b[0m",
      "\u001b[1;31mTypeError\u001b[0m                                 Traceback (most recent call last)",
      "\u001b[1;32m<ipython-input-10-8b65cc4e59b6>\u001b[0m in \u001b[0;36m<module>\u001b[1;34m\u001b[0m\n\u001b[0;32m      1\u001b[0m \u001b[1;31m# 부족하게 보내는 경우\u001b[0m\u001b[1;33m\u001b[0m\u001b[1;33m\u001b[0m\u001b[1;33m\u001b[0m\u001b[0m\n\u001b[1;32m----> 2\u001b[1;33m \u001b[0mtest2\u001b[0m\u001b[1;33m(\u001b[0m\u001b[1;36m10\u001b[0m\u001b[1;33m,\u001b[0m \u001b[1;36m20\u001b[0m\u001b[1;33m)\u001b[0m\u001b[1;33m\u001b[0m\u001b[1;33m\u001b[0m\u001b[0m\n\u001b[0m",
      "\u001b[1;31mTypeError\u001b[0m: test2() missing 1 required positional argument: 'a3'"
     ]
    }
   ],
   "source": [
    "# 매개변수개수를 부족하게 보내는 경우(원래는 3개여야 한다.)\n",
    "test2(10, 20)\n"
   ]
  },
  {
   "cell_type": "code",
   "execution_count": 11,
   "metadata": {},
   "outputs": [
    {
     "ename": "TypeError",
     "evalue": "test2() takes 3 positional arguments but 5 were given",
     "output_type": "error",
     "traceback": [
      "\u001b[1;31m---------------------------------------------------------------------------\u001b[0m",
      "\u001b[1;31mTypeError\u001b[0m                                 Traceback (most recent call last)",
      "\u001b[1;32m<ipython-input-11-33e13fbce248>\u001b[0m in \u001b[0;36m<module>\u001b[1;34m\u001b[0m\n\u001b[0;32m      1\u001b[0m \u001b[1;31m# 매개변수개수를 더 많이 보내는 경우 (원래는 3개여야 한다.)\u001b[0m\u001b[1;33m\u001b[0m\u001b[1;33m\u001b[0m\u001b[1;33m\u001b[0m\u001b[0m\n\u001b[1;32m----> 2\u001b[1;33m \u001b[0mtest2\u001b[0m\u001b[1;33m(\u001b[0m\u001b[1;36m100\u001b[0m\u001b[1;33m,\u001b[0m \u001b[1;36m200\u001b[0m\u001b[1;33m,\u001b[0m \u001b[1;36m300\u001b[0m\u001b[1;33m,\u001b[0m \u001b[1;36m400\u001b[0m\u001b[1;33m,\u001b[0m \u001b[1;36m500\u001b[0m\u001b[1;33m)\u001b[0m\u001b[1;33m\u001b[0m\u001b[1;33m\u001b[0m\u001b[0m\n\u001b[0m",
      "\u001b[1;31mTypeError\u001b[0m: test2() takes 3 positional arguments but 5 were given"
     ]
    }
   ],
   "source": [
    "# 매개변수개수를 더 많이 보내는 경우 (원래는 3개여야 한다.)\n",
    "test2(100, 200, 300, 400, 500)"
   ]
  },
  {
   "cell_type": "markdown",
   "metadata": {},
   "source": [
    "## * 자리에 shift + tab 누르면 정보가 나옴\n",
    "test2(*)"
   ]
  },
  {
   "cell_type": "code",
   "execution_count": 12,
   "metadata": {},
   "outputs": [
    {
     "name": "stdout",
     "output_type": "stream",
     "text": [
      "100\n",
      "200\n",
      "300\n",
      "100\n",
      "200\n",
      "300\n"
     ]
    }
   ],
   "source": [
    "# 함수 호출 시 전달하는 값이 저장될 매개 변수를 지정할 수 있다.\n",
    "test2(100, 200, 300)\n",
    "test2(a3=300, a1=100, a2=200)"
   ]
  },
  {
   "cell_type": "code",
   "execution_count": 13,
   "metadata": {},
   "outputs": [
    {
     "ename": "SyntaxError",
     "evalue": "keyword argument repeated (<ipython-input-13-3113ca7f580e>, line 2)",
     "output_type": "error",
     "traceback": [
      "\u001b[1;36m  File \u001b[1;32m\"<ipython-input-13-3113ca7f580e>\"\u001b[1;36m, line \u001b[1;32m2\u001b[0m\n\u001b[1;33m    test2(a3=300, a1=100, a1=200)\u001b[0m\n\u001b[1;37m                          ^\u001b[0m\n\u001b[1;31mSyntaxError\u001b[0m\u001b[1;31m:\u001b[0m keyword argument repeated\n"
     ]
    }
   ],
   "source": [
    "# 지정되지 않은 매개변수가 있거나 동일 이름을 두번 지정하면 오류가 발생한다.\n",
    "test2(a3=300, a1=100, a1=200)\n"
   ]
  },
  {
   "cell_type": "markdown",
   "metadata": {},
   "source": [
    "### 매개변수의 기본값\n",
    "- 매개변수에 기본값이 설정되어 있다면 값을 지정하지 않을 경우 기본값이 지정된다.\n",
    "- 함수를 정의할 때 기본값이 설정되어 있지 않은 변수들은 앞쪽으로 몰아서 작성해야 한다.\n"
   ]
  },
  {
   "cell_type": "code",
   "execution_count": 16,
   "metadata": {},
   "outputs": [
    {
     "name": "stdout",
     "output_type": "stream",
     "text": [
      "100\n",
      "200\n",
      "300\n"
     ]
    }
   ],
   "source": [
    "def test3(a1, a2 = 2, a3 = 3) :\n",
    "    print(a1)\n",
    "    print(a2)\n",
    "    print(a3)\n",
    "test3(100, 200, 300)"
   ]
  },
  {
   "cell_type": "code",
   "execution_count": 15,
   "metadata": {},
   "outputs": [
    {
     "name": "stdout",
     "output_type": "stream",
     "text": [
      "100\n",
      "200\n",
      "300\n",
      "\n",
      "100\n",
      "200\n",
      "3\n",
      "\n",
      "100\n",
      "2\n",
      "3\n"
     ]
    }
   ],
   "source": [
    "test3(100, 200, 300)\n",
    "print()\n",
    "test3(100, 200)\n",
    "print()\n",
    "test3(100)\n"
   ]
  },
  {
   "cell_type": "code",
   "execution_count": 17,
   "metadata": {},
   "outputs": [
    {
     "name": "stdout",
     "output_type": "stream",
     "text": [
      "100\n",
      "2\n",
      "300\n"
     ]
    }
   ],
   "source": [
    "test3(100, a3=300)\n"
   ]
  },
  {
   "cell_type": "code",
   "execution_count": 18,
   "metadata": {},
   "outputs": [],
   "source": [
    "def test4(a1, a2) :\n",
    "    r1 = a1 + a2\n",
    "    return r1\n"
   ]
  },
  {
   "cell_type": "code",
   "execution_count": 19,
   "metadata": {},
   "outputs": [
    {
     "name": "stdout",
     "output_type": "stream",
     "text": [
      "300\n"
     ]
    }
   ],
   "source": [
    "k1 = test4(100, 200)\n",
    "print(k1)\n"
   ]
  },
  {
   "cell_type": "code",
   "execution_count": 20,
   "metadata": {},
   "outputs": [],
   "source": [
    "def test5(a1, a2) :\n",
    "    r1 = a1 + a2\n",
    "    r2 = a1 - a2\n",
    "    r3 = a1 * a2\n",
    "    r4 = a1 // a2\n",
    "    \n",
    "    #마치 4개의 값을 모두 동시에 전달하는 것 처럼 보이지만\n",
    "    #여기엔 비밀이 숨겨져있다....!\n",
    "    #아래 부분도 하나만 전달하는 거에 해당한다.\n",
    "    return r1, r2, r3, r4\n"
   ]
  },
  {
   "cell_type": "code",
   "execution_count": 21,
   "metadata": {},
   "outputs": [
    {
     "name": "stdout",
     "output_type": "stream",
     "text": [
      "13\n",
      "7\n",
      "30\n",
      "3\n"
     ]
    }
   ],
   "source": [
    "k1, k2, k3, k4 = test5(10, 3)\n",
    "print(k1)\n",
    "print(k2)\n",
    "print(k3)\n",
    "print(k4)\n"
   ]
  },
  {
   "cell_type": "code",
   "execution_count": null,
   "metadata": {},
   "outputs": [],
   "source": []
  }
 ],
 "metadata": {
  "kernelspec": {
   "display_name": "Python 3",
   "language": "python",
   "name": "python3"
  },
  "language_info": {
   "codemirror_mode": {
    "name": "ipython",
    "version": 3
   },
   "file_extension": ".py",
   "mimetype": "text/x-python",
   "name": "python",
   "nbconvert_exporter": "python",
   "pygments_lexer": "ipython3",
   "version": "3.8.5"
  }
 },
 "nbformat": 4,
 "nbformat_minor": 4
}
