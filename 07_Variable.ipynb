{
 "cells": [
  {
   "cell_type": "markdown",
   "metadata": {},
   "source": [
    "### 변수\n",
    "- 값 하나를 저장할 수 있는 기억장소\n",
    "- 다른 값을 저장하게 되면 기존 값은 삭제된다.\n",
    "- 파이썬은 변수를 선언할때 전에 사용하지 않는 이름을 사용하면 변수가 생성된다.\n",
    "- 전에 사용했던 이름을 사용하면 값이 덮어씌워진다.\n",
    "---\n",
    "[규칙]\n",
    "1. 이름의 첫 글자는 문자나 언더바(_)로 시작해야 한다.\n",
    "2. 두 번째 글자 부터는 숫자도 허용한다.\n",
    "3. 키워드를 사용할 수 없다.\n",
    "4. 대소문자를 구분한다.\n",
    "\n",
    "[권장]\n",
    "1. 변수 : 첫글자를 소문자로 한다.\n",
    "2. 함수 : 첫글자를 소문자로 한다.\n",
    "3. 클래스 : 첫글자를 대문자로 한다.\n",
    "4. 가급적 파스칼 기법이 아닌 카멜 기법을 사용한다."
   ]
  },
  {
   "cell_type": "code",
   "execution_count": 7,
   "metadata": {},
   "outputs": [],
   "source": [
    "# 변수를 생성한다.\n",
    "a1 = 100\n",
    "a2 = 11.11\n",
    "a3 = True\n",
    "a4 = False\n",
    "a5 = '문자열'\n"
   ]
  },
  {
   "cell_type": "code",
   "execution_count": 8,
   "metadata": {},
   "outputs": [
    {
     "name": "stdout",
     "output_type": "stream",
     "text": [
      "100\n",
      "11.11\n",
      "True\n",
      "False\n",
      "문자열\n"
     ]
    }
   ],
   "source": [
    "# 변수를 사용한다(변수에 저장되어 있는 값을 가져온다)\n",
    "print(a1)\n",
    "print(a2)\n",
    "print(a3)\n",
    "print(a4)\n",
    "print(a5)\n"
   ]
  },
  {
   "cell_type": "code",
   "execution_count": 9,
   "metadata": {},
   "outputs": [
    {
     "name": "stdout",
     "output_type": "stream",
     "text": [
      "<class 'int'>\n",
      "<class 'float'>\n",
      "<class 'bool'>\n",
      "<class 'bool'>\n",
      "<class 'str'>\n"
     ]
    }
   ],
   "source": [
    "# type 함수를 사용해 변수에 저장되어 있는 값의 타입을 확인한다.\n",
    "print(type(a1))\n",
    "print(type(a2))\n",
    "print(type(a3))\n",
    "print(type(a4))\n",
    "print(type(a5))\n"
   ]
  },
  {
   "cell_type": "code",
   "execution_count": 10,
   "metadata": {},
   "outputs": [
    {
     "name": "stdout",
     "output_type": "stream",
     "text": [
      "100\n",
      "2000\n"
     ]
    }
   ],
   "source": [
    "# 이미 사용한 변수에 값을 넣어주면 기존 값을 삭제하고 새로운 값을 저장한다.\n",
    "print(a1)\n",
    "\n",
    "a1 = 2000\n",
    "print(a1)\n"
   ]
  },
  {
   "cell_type": "code",
   "execution_count": null,
   "metadata": {},
   "outputs": [],
   "source": []
  },
  {
   "cell_type": "code",
   "execution_count": null,
   "metadata": {},
   "outputs": [],
   "source": []
  }
 ],
 "metadata": {
  "kernelspec": {
   "display_name": "Python 3",
   "language": "python",
   "name": "python3"
  },
  "language_info": {
   "codemirror_mode": {
    "name": "ipython",
    "version": 3
   },
   "file_extension": ".py",
   "mimetype": "text/x-python",
   "name": "python",
   "nbconvert_exporter": "python",
   "pygments_lexer": "ipython3",
   "version": "3.8.5"
  }
 },
 "nbformat": 4,
 "nbformat_minor": 4
}
