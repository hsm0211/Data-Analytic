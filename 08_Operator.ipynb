{
 "cells": [
  {
   "cell_type": "markdown",
   "metadata": {},
   "source": [
    "### 연산자\n",
    "- 단항연산자 : ., [], +, - 등\n",
    "- 산술연산자 : +, -, *, /, //, %, **\n",
    "- 대입연산자 : =, +=, -=, *=, /=, //=, %=, **=\n",
    "- 비교연산자 : >, <, >=, <=, ==, !=\n",
    "- 논리연산자 : not, and, or"
   ]
  },
  {
   "cell_type": "markdown",
   "metadata": {},
   "source": [
    "### 산술 연산자\n",
    "- +, -, /(실수), //(정수), %(나머지), *(거듭제곱)"
   ]
  },
  {
   "cell_type": "code",
   "execution_count": 3,
   "metadata": {},
   "outputs": [],
   "source": [
    "a1 = 10 + 3\n",
    "a2 = 10 - 3\n",
    "a3 = 10 / 3\n",
    "a4 = 10 // 3\n",
    "a5 = 10 % 3\n",
    "a6 = 10 ** 3"
   ]
  },
  {
   "cell_type": "code",
   "execution_count": 2,
   "metadata": {},
   "outputs": [
    {
     "name": "stdout",
     "output_type": "stream",
     "text": [
      "13\n",
      "7\n",
      "3.3333333333333335\n",
      "3\n",
      "1\n",
      "1000\n"
     ]
    }
   ],
   "source": [
    "print(a1)\n",
    "print(a2)\n",
    "print(a3)\n",
    "print(a4)\n",
    "print(a5)\n",
    "print(a6)"
   ]
  },
  {
   "cell_type": "markdown",
   "metadata": {},
   "source": [
    "### 대입연산자\n",
    "- 오른쪽에 있는 값을 왼쪽 변수에 저장하는 연산자"
   ]
  },
  {
   "cell_type": "code",
   "execution_count": 4,
   "metadata": {},
   "outputs": [
    {
     "name": "stdout",
     "output_type": "stream",
     "text": [
      "10\n"
     ]
    }
   ],
   "source": [
    "# 10을 a1 변수에 저장한다.\n",
    "a1 = 10\n",
    "print(a1)"
   ]
  },
  {
   "cell_type": "code",
   "execution_count": 7,
   "metadata": {},
   "outputs": [
    {
     "name": "stdout",
     "output_type": "stream",
     "text": [
      "20\n",
      "10\n",
      "60\n",
      "20\n"
     ]
    }
   ],
   "source": [
    "a1 = 10\n",
    "a2 = 20\n",
    "a3 = 30\n",
    "a4 = 40\n",
    "\n",
    "# 변수에서 값을 가지고와 계산해서 다시 변수에 저장한다.\n",
    "a1 = a1 + 10\n",
    "a2 = a2 - 10\n",
    "a3 = a3 * 2\n",
    "a4 = a4 // 2\n",
    "\n",
    "print(a1)\n",
    "print(a2)\n",
    "print(a3)\n",
    "print(a4)\n"
   ]
  },
  {
   "cell_type": "markdown",
   "metadata": {},
   "source": [
    "### 비교 연산자\n",
    "- \\> (큰가), < (작은가), >= (크거나 같은가), <= (작거나 같은가)\n",
    "- == (같은가), != (다른가)\n",
    "- 연산 결과는 True, False"
   ]
  },
  {
   "cell_type": "code",
   "execution_count": 8,
   "metadata": {},
   "outputs": [
    {
     "name": "stdout",
     "output_type": "stream",
     "text": [
      "False\n",
      "True\n",
      "True\n",
      "True\n",
      "False\n",
      "True\n"
     ]
    }
   ],
   "source": [
    "a1 = 10 < 2\n",
    "a2 = 10 > 2\n",
    "a3 = 10 >= 2\n",
    "a4 = 10 >= 10\n",
    "a5 = 10 <= 2\n",
    "a6 = 10 <= 10\n",
    "\n",
    "print(a1)\n",
    "print(a2)\n",
    "print(a3)\n",
    "print(a4)\n",
    "print(a5)\n",
    "print(a6)\n"
   ]
  },
  {
   "cell_type": "code",
   "execution_count": 9,
   "metadata": {},
   "outputs": [
    {
     "name": "stdout",
     "output_type": "stream",
     "text": [
      "False\n",
      "True\n",
      "True\n",
      "False\n"
     ]
    }
   ],
   "source": [
    "a1 = 10 == 2\n",
    "a2 = 10 == 10\n",
    "a3 = 10 != 2\n",
    "a4 = 10 != 10\n",
    "\n",
    "print(a1)\n",
    "print(a2)\n",
    "print(a3)\n",
    "print(a4)\n"
   ]
  },
  {
   "cell_type": "markdown",
   "metadata": {},
   "source": [
    "### 논리 연산자\n",
    "- True나 False를 결과로하는 두 수식의 결과를 통해 연산한다.\n",
    "- and : 둘 중 하나라도 False면 결과는 False\n",
    "- or : 둘 중 하나라도 True면 결과는 True\n",
    "- not : True를 False로, False 를 True로 변환한다.\n"
   ]
  },
  {
   "cell_type": "code",
   "execution_count": 11,
   "metadata": {},
   "outputs": [
    {
     "name": "stdout",
     "output_type": "stream",
     "text": [
      "True\n",
      "False\n",
      "False\n",
      "True\n"
     ]
    }
   ],
   "source": [
    "a1 = 10 > 2 and 10 > 3\n",
    "a2 = 10 > 2 and 10 > 20\n",
    "a3 = 10 < 2 or 10 < 3\n",
    "a4 = 10 < 2 or 10 < 20\n",
    "\n",
    "print(a1)\n",
    "print(a2)\n",
    "print(a3)\n",
    "print(a4)\n"
   ]
  },
  {
   "cell_type": "code",
   "execution_count": null,
   "metadata": {},
   "outputs": [],
   "source": []
  }
 ],
 "metadata": {
  "kernelspec": {
   "display_name": "Python 3",
   "language": "python",
   "name": "python3"
  },
  "language_info": {
   "codemirror_mode": {
    "name": "ipython",
    "version": 3
   },
   "file_extension": ".py",
   "mimetype": "text/x-python",
   "name": "python",
   "nbconvert_exporter": "python",
   "pygments_lexer": "ipython3",
   "version": "3.8.5"
  }
 },
 "nbformat": 4,
 "nbformat_minor": 4
}
