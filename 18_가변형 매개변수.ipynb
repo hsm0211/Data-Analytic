{
 "cells": [
  {
   "cell_type": "code",
   "execution_count": 2,
   "metadata": {},
   "outputs": [
    {
     "name": "stdout",
     "output_type": "stream",
     "text": [
      "<class 'tuple'>\n",
      "60\n"
     ]
    }
   ],
   "source": [
    "# 값들만 넘기는 경우\n",
    "def test1(*a1) :\n",
    "    print(type(a1))\n",
    "    \n",
    "    total = 0\n",
    "    for value in a1 :\n",
    "        total = total + value\n",
    "        \n",
    "    print(total)\n",
    "    \n",
    "    \n",
    "test1(10, 20, 30)\n"
   ]
  },
  {
   "cell_type": "markdown",
   "metadata": {},
   "source": [
    "### 가변형 매개변수\n",
    "- 정의 : 함수를 호출할 때 전달하는 값의 개수에 따라서 매개변수의 개수를 유동적으로 정하는 것\n",
    "- 파이썬에서는 튜플과 딕셔너리를 활용한다."
   ]
  },
  {
   "cell_type": "code",
   "execution_count": 3,
   "metadata": {},
   "outputs": [
    {
     "name": "stdout",
     "output_type": "stream",
     "text": [
      "<class 'dict'>\n",
      "{'k1': 100, 'k2': 200, 'k3': 300}\n",
      "<class 'dict'>\n",
      "{'v1': 1000, 'v2': 2000}\n",
      "<class 'dict'>\n",
      "{'z1': 11.11, 'z2': True, 'z3': '문자열', 'z4': 100}\n"
     ]
    }
   ],
   "source": [
    "# 이름과 값을 넘기는 경우\n",
    "def test2(**a2) :\n",
    "    print(type(a2))\n",
    "    print(a2)\n",
    "    \n",
    "test2(k1=100, k2=200, k3=300)\n",
    "test2(v1=1000, v2=2000)\n",
    "test2(z1=11.11, z2=True, z3='문자열', z4=100)\n"
   ]
  },
  {
   "cell_type": "code",
   "execution_count": 4,
   "metadata": {},
   "outputs": [],
   "source": [
    "def test3(a1, a2, *a3, **a4) :\n",
    "    print(a1)\n",
    "    print(a2)\n",
    "    print(a3)\n",
    "    print(a4)"
   ]
  },
  {
   "cell_type": "code",
   "execution_count": 5,
   "metadata": {},
   "outputs": [
    {
     "name": "stdout",
     "output_type": "stream",
     "text": [
      "10\n",
      "20\n",
      "(30, 40, 50, 60, 70)\n",
      "{'k1': 80, 'k2': 90, 'k3': 100}\n"
     ]
    }
   ],
   "source": [
    "test3(10, 20, 30, 40, 50, 60, 70, k1=80, k2=90, k3=100)\n"
   ]
  },
  {
   "cell_type": "code",
   "execution_count": null,
   "metadata": {},
   "outputs": [],
   "source": []
  }
 ],
 "metadata": {
  "kernelspec": {
   "display_name": "Python 3",
   "language": "python",
   "name": "python3"
  },
  "language_info": {
   "codemirror_mode": {
    "name": "ipython",
    "version": 3
   },
   "file_extension": ".py",
   "mimetype": "text/x-python",
   "name": "python",
   "nbconvert_exporter": "python",
   "pygments_lexer": "ipython3",
   "version": "3.8.5"
  }
 },
 "nbformat": 4,
 "nbformat_minor": 4
}
