{
 "cells": [
  {
   "cell_type": "markdown",
   "metadata": {},
   "source": [
    "### 객체\n",
    "- 매개체 하나에 대한 데이터와 기능을 관리하는 개념\n",
    "- 객체를 생성하기 위해 클래스라는 설계도를 사용한다."
   ]
  },
  {
   "cell_type": "code",
   "execution_count": 3,
   "metadata": {},
   "outputs": [],
   "source": [
    "# 클래스 작성\n",
    "class TestClass1 :\n",
    "    pass"
   ]
  },
  {
   "cell_type": "code",
   "execution_count": 5,
   "metadata": {},
   "outputs": [
    {
     "name": "stdout",
     "output_type": "stream",
     "text": [
      "t1 : <__main__.TestClass1 object at 0x0000027C0A8A2940>\n",
      "t2 : <__main__.TestClass1 object at 0x0000027C0A8A2910>\n"
     ]
    }
   ],
   "source": [
    "# 객체를 생성한다.\n",
    "t1 = TestClass1()\n",
    "t2 = TestClass1()\n",
    "\n",
    "print(f't1 : {t1}')\n",
    "print(f't2 : {t2}')"
   ]
  },
  {
   "cell_type": "code",
   "execution_count": 6,
   "metadata": {},
   "outputs": [
    {
     "name": "stdout",
     "output_type": "stream",
     "text": [
      "100\n"
     ]
    }
   ],
   "source": [
    "# 파이썬은 객체에 변수를 추가하는 것이 가능하다.\n",
    "# 한번도 사용하지 않은 변수에 값을 넣어주면 추가된다.\n",
    "t1.a1 = 100\n",
    "print(t1.a1)"
   ]
  },
  {
   "cell_type": "code",
   "execution_count": 7,
   "metadata": {},
   "outputs": [
    {
     "ename": "AttributeError",
     "evalue": "'TestClass1' object has no attribute 'a1'",
     "output_type": "error",
     "traceback": [
      "\u001b[1;31m---------------------------------------------------------------------------\u001b[0m",
      "\u001b[1;31mAttributeError\u001b[0m                            Traceback (most recent call last)",
      "\u001b[1;32m<ipython-input-7-7ee5d7e3a54b>\u001b[0m in \u001b[0;36m<module>\u001b[1;34m\u001b[0m\n\u001b[1;32m----> 1\u001b[1;33m \u001b[0mprint\u001b[0m\u001b[1;33m(\u001b[0m\u001b[0mt2\u001b[0m\u001b[1;33m.\u001b[0m\u001b[0ma1\u001b[0m\u001b[1;33m)\u001b[0m\u001b[1;33m\u001b[0m\u001b[1;33m\u001b[0m\u001b[0m\n\u001b[0m",
      "\u001b[1;31mAttributeError\u001b[0m: 'TestClass1' object has no attribute 'a1'"
     ]
    }
   ],
   "source": [
    "# 객체는 독립적으로 관리되기 때문에 같은 클래스로 객체를 생성했다고 하더라도\n",
    "# 서로간에 영향을 주지 않는다.\n",
    "print(t2.a1)"
   ]
  },
  {
   "cell_type": "markdown",
   "metadata": {},
   "source": [
    "### 객체의 맴버\n",
    "- 객체가 가지고 있는 구성 요소\n",
    "- 변수 : 맴버 변수\n",
    "- 함수 : 맴버 메서드"
   ]
  },
  {
   "cell_type": "code",
   "execution_count": 14,
   "metadata": {},
   "outputs": [],
   "source": [
    "class TestClass2 :\n",
    "    \n",
    "    # 생성자 메서드\n",
    "    # 객체가 생성되면 자동으로 호출되는 메서드\n",
    "    # 파이썬에서는 클래스에 정의하는 모든 메서드는 첫 번째 매개변수로\n",
    "    # 메서드를 호출할 때 사용한 객체의 주소값이 들어온다.\n",
    "    # 이를 이용해 객체에 맴버 변수를 추가하는 작업을 해준다.\n",
    "    def __init__(self) :\n",
    "        print('init 호출')\n",
    "        print(self)\n",
    "        self.a1 = 100\n",
    "        self.a2 = 200"
   ]
  },
  {
   "cell_type": "code",
   "execution_count": 15,
   "metadata": {},
   "outputs": [
    {
     "name": "stdout",
     "output_type": "stream",
     "text": [
      "init 호출\n",
      "<__main__.TestClass2 object at 0x0000027C0A97D610>\n",
      "init 호출\n",
      "<__main__.TestClass2 object at 0x0000027C0A97D5B0>\n",
      "<__main__.TestClass2 object at 0x0000027C0A97D610>\n",
      "<__main__.TestClass2 object at 0x0000027C0A97D5B0>\n",
      "100\n",
      "200\n",
      "100\n",
      "200\n"
     ]
    }
   ],
   "source": [
    "t3 = TestClass2()\n",
    "t4 = TestClass2()\n",
    "\n",
    "print(t3)\n",
    "print(t4)\n",
    "\n",
    "print(t3.a1)\n",
    "print(t3.a2)\n",
    "\n",
    "print(t4.a1)\n",
    "print(t4.a2)"
   ]
  },
  {
   "cell_type": "code",
   "execution_count": 18,
   "metadata": {},
   "outputs": [],
   "source": [
    "# 객체를 생성할 때 값을 받는다.\n",
    "class TestClass3 :\n",
    "    \n",
    "    def __init__(self, v1, v2) :\n",
    "        self.a1 = v1\n",
    "        self.a2 = v2\n",
    "        \n",
    "    def getTotal(self) :\n",
    "        r1 = self.a1 + self.a2\n",
    "        return r1"
   ]
  },
  {
   "cell_type": "code",
   "execution_count": 19,
   "metadata": {},
   "outputs": [
    {
     "name": "stdout",
     "output_type": "stream",
     "text": [
      "100\n",
      "200\n",
      "1000\n",
      "2000\n",
      "300\n",
      "3000\n"
     ]
    }
   ],
   "source": [
    "t5 = TestClass3(100, 200)\n",
    "t6 = TestClass3(1000, 2000)\n",
    "\n",
    "print(t5.a1)\n",
    "print(t5.a2)\n",
    "print(t6.a1)\n",
    "print(t6.a2)\n",
    "\n",
    "v1 = t5.getTotal()\n",
    "v2 = t6.getTotal()\n",
    "\n",
    "print(v1)\n",
    "print(v2)"
   ]
  },
  {
   "cell_type": "markdown",
   "metadata": {},
   "source": [
    "### 클래스 맴버\n",
    "- 객체가 아닌 클래스가 관리하는 변수와 함수\n",
    "- 객체가 아닌 클래스를 통해 접근 한다."
   ]
  },
  {
   "cell_type": "code",
   "execution_count": 30,
   "metadata": {},
   "outputs": [],
   "source": [
    "class TestClass4 :\n",
    "    \n",
    "    def __init__(self, a1, a2) :\n",
    "        self.v1 = a1\n",
    "        self.v2 = a2\n",
    "        \n",
    "    def testMethod1() :\n",
    "        print(\"testMethod1\")\n",
    "        \n",
    "    def testMethod2(self) :\n",
    "        print(\"testMethod2\")"
   ]
  },
  {
   "cell_type": "code",
   "execution_count": 31,
   "metadata": {},
   "outputs": [],
   "source": [
    "t10 = TestClass4(10, 20)\n",
    "t20 = TestClass4(100, 200)"
   ]
  },
  {
   "cell_type": "code",
   "execution_count": 32,
   "metadata": {},
   "outputs": [
    {
     "name": "stdout",
     "output_type": "stream",
     "text": [
      "testMethod2\n"
     ]
    }
   ],
   "source": [
    "# t10을 통한 메서드를 호출\n",
    "# 객체를 통해 호출하였으므로 첫 번째 매개변수에 객체의 주소값이 들어간다.\n",
    "# testMethod2의 첫 번째 매개변수인 self에 객체의 주소값이 들어간다.\n",
    "t10.testMethod2()"
   ]
  },
  {
   "cell_type": "code",
   "execution_count": 33,
   "metadata": {},
   "outputs": [
    {
     "ename": "TypeError",
     "evalue": "testMethod1() takes 0 positional arguments but 1 was given",
     "output_type": "error",
     "traceback": [
      "\u001b[1;31m---------------------------------------------------------------------------\u001b[0m",
      "\u001b[1;31mTypeError\u001b[0m                                 Traceback (most recent call last)",
      "\u001b[1;32m<ipython-input-33-68eeb1c8f68f>\u001b[0m in \u001b[0;36m<module>\u001b[1;34m\u001b[0m\n\u001b[1;32m----> 1\u001b[1;33m \u001b[0mt10\u001b[0m\u001b[1;33m.\u001b[0m\u001b[0mtestMethod1\u001b[0m\u001b[1;33m(\u001b[0m\u001b[1;33m)\u001b[0m\u001b[1;33m\u001b[0m\u001b[1;33m\u001b[0m\u001b[0m\n\u001b[0m",
      "\u001b[1;31mTypeError\u001b[0m: testMethod1() takes 0 positional arguments but 1 was given"
     ]
    }
   ],
   "source": [
    "# t10을 통해 메서드를 호출 하였기 때문에 객체의 주소값이 전달된다.\n",
    "# 허나 testMethod1은 매개변수가 정의된것이 없기 때문에 오류가 발생한다.\n",
    "t10.testMethod1()"
   ]
  },
  {
   "cell_type": "code",
   "execution_count": 34,
   "metadata": {},
   "outputs": [
    {
     "name": "stdout",
     "output_type": "stream",
     "text": [
      "testMethod1\n"
     ]
    }
   ],
   "source": [
    "# 클래스의 이름으로 호출\n",
    "TestClass4.testMethod1()"
   ]
  },
  {
   "cell_type": "code",
   "execution_count": 35,
   "metadata": {},
   "outputs": [
    {
     "ename": "TypeError",
     "evalue": "testMethod2() missing 1 required positional argument: 'self'",
     "output_type": "error",
     "traceback": [
      "\u001b[1;31m---------------------------------------------------------------------------\u001b[0m",
      "\u001b[1;31mTypeError\u001b[0m                                 Traceback (most recent call last)",
      "\u001b[1;32m<ipython-input-35-0e2a104ed3d7>\u001b[0m in \u001b[0;36m<module>\u001b[1;34m\u001b[0m\n\u001b[1;32m----> 1\u001b[1;33m \u001b[0mTestClass4\u001b[0m\u001b[1;33m.\u001b[0m\u001b[0mtestMethod2\u001b[0m\u001b[1;33m(\u001b[0m\u001b[1;33m)\u001b[0m\u001b[1;33m\u001b[0m\u001b[1;33m\u001b[0m\u001b[0m\n\u001b[0m",
      "\u001b[1;31mTypeError\u001b[0m: testMethod2() missing 1 required positional argument: 'self'"
     ]
    }
   ],
   "source": [
    "# 클래스 이름으로 메서드를 호출하면 자동으로 전달되는 것이 아무것도 없다.\n",
    "TestClass4.testMethod2()"
   ]
  },
  {
   "cell_type": "markdown",
   "metadata": {},
   "source": [
    "메서드의 매개변수에 self가 있다면 객체를 통해 호출해야 하고 self가 없다면 클래스의 이름을 통해 호출한다."
   ]
  },
  {
   "cell_type": "code",
   "execution_count": 36,
   "metadata": {},
   "outputs": [],
   "source": [
    "# 클래스 변수\n",
    "class TestClass5 : \n",
    "    # 클래스가 관리하는 변수\n",
    "    # 만약 객체로 변수에 접근하게 된다면 객체 자신이 가지고 있는 것이 \n",
    "    # 우선이고 없다면 클래스가 관리하는 변수를 확인한다. 만약 여기에도 \n",
    "    # 없다면 오류.\n",
    "    value1 = 100\n",
    "    value2 = 200\n",
    "    \n",
    "    def __init__(self, k1, k2) :\n",
    "        self.a1 = k1\n",
    "        self.a2 = k2"
   ]
  },
  {
   "cell_type": "code",
   "execution_count": 39,
   "metadata": {},
   "outputs": [],
   "source": [
    "t100 = TestClass5(100, 200)\n",
    "t200 = TestClass5(1000, 2000)"
   ]
  },
  {
   "cell_type": "code",
   "execution_count": 40,
   "metadata": {},
   "outputs": [
    {
     "name": "stdout",
     "output_type": "stream",
     "text": [
      "100\n",
      "200\n",
      "100\n",
      "200\n",
      "100\n",
      "200\n"
     ]
    }
   ],
   "source": [
    "print(t100.value1)\n",
    "print(t100.value2)\n",
    "print(t200.value1)\n",
    "print(t200.value2)\n",
    "print(TestClass5.value1)\n",
    "print(TestClass5.value2)"
   ]
  },
  {
   "cell_type": "code",
   "execution_count": 41,
   "metadata": {},
   "outputs": [
    {
     "name": "stdout",
     "output_type": "stream",
     "text": [
      "1000\n",
      "1000\n",
      "1000\n"
     ]
    }
   ],
   "source": [
    "# 클래스 이름을 통해 변수 값을 변경한다.\n",
    "# 클래스가 관리하는 변수에 값을 넣어준다.\n",
    "TestClass5.value1 = 1000\n",
    "print(t100.value1)\n",
    "print(t200.value1)\n",
    "print(TestClass5.value1)"
   ]
  },
  {
   "cell_type": "code",
   "execution_count": 42,
   "metadata": {},
   "outputs": [
    {
     "name": "stdout",
     "output_type": "stream",
     "text": [
      "1000\n",
      "5000\n",
      "1000\n"
     ]
    }
   ],
   "source": [
    "# 객체를 통해 value1 변수 값을 변경한다.\n",
    "t100.value1 = 5000\n",
    "print(TestClass5.value1)\n",
    "print(t100.value1)\n",
    "print(t200.value1)"
   ]
  },
  {
   "cell_type": "markdown",
   "metadata": {},
   "source": [
    "- 메서드에 있는 self 통해 추가된 변수는 객체 각각 가지고 있는 변수이고 클래스에 정의한 변수는 클래스가 관리하는 변수이며 객체를 통해서도 접근이 가능하다. \n",
    "- 클래스가 관리하는 변수는 오로지 클래스 이름을 통해 값을 설정하는 것이 가능하고 객체를 통해 값을 넣어주는 코드는 해당 객체에 변수를 추가하는 작업이다.\n",
    "- 이를 통해 객체가 생성된 이후 모든 객체에 변수를 추가하는 것처럼 사용할 수 있다."
   ]
  },
  {
   "cell_type": "code",
   "execution_count": null,
   "metadata": {},
   "outputs": [],
   "source": []
  }
 ],
 "metadata": {
  "kernelspec": {
   "display_name": "Python 3",
   "language": "python",
   "name": "python3"
  },
  "language_info": {
   "codemirror_mode": {
    "name": "ipython",
    "version": 3
   },
   "file_extension": ".py",
   "mimetype": "text/x-python",
   "name": "python",
   "nbconvert_exporter": "python",
   "pygments_lexer": "ipython3",
   "version": "3.8.5"
  }
 },
 "nbformat": 4,
 "nbformat_minor": 4
}
