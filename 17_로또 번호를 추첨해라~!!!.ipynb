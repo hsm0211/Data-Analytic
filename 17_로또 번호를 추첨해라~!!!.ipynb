{
 "cells": [
  {
   "cell_type": "markdown",
   "metadata": {},
   "source": [
    "### 로또 당첨 가즈아아아아~~~!!!!!\n",
    "\n",
    "- 1 ~ 45 숫자 중에 가즈아"
   ]
  },
  {
   "cell_type": "code",
   "execution_count": 16,
   "metadata": {},
   "outputs": [
    {
     "name": "stdout",
     "output_type": "stream",
     "text": [
      "[2, 3, 4, 5, 34, 38]\n"
     ]
    }
   ],
   "source": [
    "# random 이라는 라이브러리를 로딩한다.\n",
    "import random\n",
    "\n",
    "# 1 ~ 45까지 담겨 있는 리스트를 생성한다.\n",
    "list1 = list(range(1, 46))\n",
    "#print(list1)\n",
    "# 랜덤하게 섞는다.\n",
    "random.shuffle(list1)\n",
    "#print(list1)\n",
    "# 앞에서 6개를 추출해 출력한다.\n",
    "\n",
    "a1 = list1[:6]\n",
    "# 정렬\n",
    "a1.sort()\n",
    "print(a1)"
   ]
  },
  {
   "cell_type": "code",
   "execution_count": 17,
   "metadata": {},
   "outputs": [
    {
     "name": "stdout",
     "output_type": "stream",
     "text": [
      "[9, 19, 23, 32, 34, 37]\n",
      "[1, 9, 17, 23, 28, 39]\n",
      "[9, 24, 30, 31, 36, 45]\n",
      "[11, 28, 29, 31, 33, 35]\n",
      "[3, 17, 20, 37, 40, 43]\n",
      "[4, 12, 25, 33, 34, 38]\n",
      "[3, 8, 9, 29, 40, 45]\n",
      "[3, 13, 17, 33, 37, 43]\n",
      "[3, 19, 22, 26, 27, 30]\n",
      "[15, 22, 30, 35, 38, 45]\n"
     ]
    }
   ],
   "source": [
    "# random 이라는 라이브러리를 로딩한다.\n",
    "import random\n",
    "\n",
    "for _ in range(10) :\n",
    "    # 1 ~ 45까지 담겨 있는 리스트를 생성한다.\n",
    "    list1 = list(range(1, 46))\n",
    "    #print(list1)\n",
    "    # 랜덤하게 섞는다.\n",
    "    random.shuffle(list1)\n",
    "    #print(list1)\n",
    "    # 앞에서 6개를 추출해 출력한다.\n",
    "\n",
    "    a1 = list1[:6]\n",
    "    # 정렬\n",
    "    a1.sort()\n",
    "    print(a1)\n",
    "\n",
    "#전체 선택후 Tab 키 누르면 들여쓰기 됨."
   ]
  },
  {
   "cell_type": "code",
   "execution_count": null,
   "metadata": {},
   "outputs": [],
   "source": []
  },
  {
   "cell_type": "code",
   "execution_count": null,
   "metadata": {},
   "outputs": [],
   "source": []
  }
 ],
 "metadata": {
  "kernelspec": {
   "display_name": "Python 3",
   "language": "python",
   "name": "python3"
  },
  "language_info": {
   "codemirror_mode": {
    "name": "ipython",
    "version": 3
   },
   "file_extension": ".py",
   "mimetype": "text/x-python",
   "name": "python",
   "nbconvert_exporter": "python",
   "pygments_lexer": "ipython3",
   "version": "3.8.5"
  }
 },
 "nbformat": 4,
 "nbformat_minor": 4
}
