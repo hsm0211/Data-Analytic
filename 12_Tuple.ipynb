{
 "cells": [
  {
   "cell_type": "markdown",
   "metadata": {},
   "source": [
    "### Tuple\n",
    "\n",
    "- 인덱스(0 부터 1씩 증가)를 통해 다수의 기억장소를 관리하는 컬렉션\n",
    "- 생성시 관리할 값들을 설정해주고 이후로는 수정이 불가하다.\n"
   ]
  },
  {
   "cell_type": "code",
   "execution_count": 1,
   "metadata": {},
   "outputs": [
    {
     "name": "stdout",
     "output_type": "stream",
     "text": [
      "<class 'tuple'>\n",
      "()\n"
     ]
    }
   ],
   "source": [
    "# tuple 함수를 사용한 생성. \n",
    "# tuple은 생성되지만 관리하는 값이 없다.\n",
    "t1 = tuple()\n",
    "print(type(t1))\n",
    "print(t1)\n"
   ]
  },
  {
   "cell_type": "code",
   "execution_count": 2,
   "metadata": {},
   "outputs": [
    {
     "name": "stdout",
     "output_type": "stream",
     "text": [
      "<class 'tuple'>\n",
      "(10, 20, 30, 40, 50)\n"
     ]
    }
   ],
   "source": [
    "# 괄호 없이 값만 나열해 주면 tuple이 생성된다.\n",
    "t4 = 10, 20, 30, 40, 50\n",
    "print(type(t4))\n",
    "print(t4)\n"
   ]
  },
  {
   "cell_type": "code",
   "execution_count": 6,
   "metadata": {},
   "outputs": [],
   "source": [
    "# 함수의 반환값을 tuple로 정의해서 반환한다.\n",
    "def test1(a1, a2) :\n",
    "    r1 = a1 + a2\n",
    "    r2 = a1 - a2\n",
    "    r3 = a1 * a2\n",
    "    r4 = a1 // a2\n",
    "    \n",
    "    # 반환할 값들이 tuple로 생성되서 tuple 이 반환된다.\n",
    "    return r1, r2, r3, r4\n"
   ]
  },
  {
   "cell_type": "code",
   "execution_count": 7,
   "metadata": {},
   "outputs": [
    {
     "name": "stdout",
     "output_type": "stream",
     "text": [
      "<class 'tuple'>\n",
      "(30, -10, 200, 0)\n"
     ]
    }
   ],
   "source": [
    "k1 = test1(10, 20)\n",
    "print(type(k1))\n",
    "print(k1)\n"
   ]
  },
  {
   "cell_type": "markdown",
   "metadata": {},
   "source": [
    "### Tuple이 관리하는 값에 접근한다.(Indexing)"
   ]
  },
  {
   "cell_type": "code",
   "execution_count": 8,
   "metadata": {},
   "outputs": [
    {
     "data": {
      "text/plain": [
       "(10, 20, 30, 40, 50)"
      ]
     },
     "execution_count": 8,
     "metadata": {},
     "output_type": "execute_result"
    }
   ],
   "source": [
    "t1 = 10, 20, 30, 40, 50\n",
    "t1\n"
   ]
  },
  {
   "cell_type": "code",
   "execution_count": 9,
   "metadata": {},
   "outputs": [
    {
     "name": "stdout",
     "output_type": "stream",
     "text": [
      "10\n",
      "20\n",
      "30\n"
     ]
    }
   ],
   "source": [
    "# 0 부터 1씩 증가되는 인덱스 번호를 통해 값을 추출할 수 있다.\n",
    "print(t1[0])\n",
    "print(t1[1])\n",
    "print(t1[2])\n"
   ]
  },
  {
   "cell_type": "code",
   "execution_count": 10,
   "metadata": {},
   "outputs": [
    {
     "name": "stdout",
     "output_type": "stream",
     "text": [
      "50\n",
      "40\n",
      "30\n"
     ]
    }
   ],
   "source": [
    "# - 인덱스를 제공한다.\n",
    "# - 인덱스는 뒤에서 부터 접근한다.\n",
    "print(t1[-1])\n",
    "print(t1[-2])\n",
    "print(t1[-3])\n"
   ]
  },
  {
   "cell_type": "code",
   "execution_count": 11,
   "metadata": {},
   "outputs": [
    {
     "name": "stdout",
     "output_type": "stream",
     "text": [
      "10\n",
      "20\n",
      "30\n",
      "40\n",
      "50\n"
     ]
    }
   ],
   "source": [
    "# 분해. \n",
    "# tuple. list 등이 관리하는 값의 개수 만큼 변수를 나열해 주면\n",
    "# 1:1 대응하여 변수에 담기게 된다.\n",
    "a1, a2, a3, a4, a5 = t1\n",
    "print(a1)\n",
    "print(a2)\n",
    "print(a3)\n",
    "print(a4)\n",
    "print(a5)\n"
   ]
  },
  {
   "cell_type": "code",
   "execution_count": 12,
   "metadata": {},
   "outputs": [
    {
     "name": "stdout",
     "output_type": "stream",
     "text": [
      "13\n",
      "7\n",
      "30\n",
      "3\n"
     ]
    }
   ],
   "source": [
    "# 함수 호출 시 함수가 반환하는 것이 튜플이라면 분해 개념을 사용한다.\n",
    "a1, a2, a3, a4 = test1(10, 3)\n",
    "print(a1)\n",
    "print(a2)\n",
    "print(a3)\n",
    "print(a4)\n"
   ]
  },
  {
   "cell_type": "code",
   "execution_count": 13,
   "metadata": {},
   "outputs": [
    {
     "data": {
      "text/plain": [
       "(10, 20, 30, 40, 50, 60, 70, 80, 90, 100)"
      ]
     },
     "execution_count": 13,
     "metadata": {},
     "output_type": "execute_result"
    }
   ],
   "source": [
    "t1 = 10, 20, 30, 40, 50, 60, 70, 80, 90, 100\n",
    "t1\n"
   ]
  },
  {
   "cell_type": "code",
   "execution_count": 14,
   "metadata": {},
   "outputs": [
    {
     "data": {
      "text/plain": [
       "(30, 40, 50, 60, 70)"
      ]
     },
     "execution_count": 14,
     "metadata": {},
     "output_type": "execute_result"
    }
   ],
   "source": [
    "# 인덱스 2 ~ 7 - 1 까지\n",
    "t2 = t1[2:7]\n",
    "t2\n"
   ]
  },
  {
   "cell_type": "code",
   "execution_count": 15,
   "metadata": {},
   "outputs": [
    {
     "data": {
      "text/plain": [
       "(10, 20, 30, 40, 50, 60, 70)"
      ]
     },
     "execution_count": 15,
     "metadata": {},
     "output_type": "execute_result"
    }
   ],
   "source": [
    "# 처음 부터 7 - 1 까지\n",
    "t3 = t1[0:7]\n",
    "t3\n"
   ]
  },
  {
   "cell_type": "code",
   "execution_count": 16,
   "metadata": {},
   "outputs": [
    {
     "data": {
      "text/plain": [
       "(30, 40, 50, 60, 70, 80, 90, 100)"
      ]
     },
     "execution_count": 16,
     "metadata": {},
     "output_type": "execute_result"
    }
   ],
   "source": [
    "# 인덱스 2 부터 끝까지\n",
    "t4 = t1[2:]\n",
    "t4\n"
   ]
  },
  {
   "cell_type": "code",
   "execution_count": null,
   "metadata": {},
   "outputs": [],
   "source": []
  }
 ],
 "metadata": {
  "kernelspec": {
   "display_name": "Python 3",
   "language": "python",
   "name": "python3"
  },
  "language_info": {
   "codemirror_mode": {
    "name": "ipython",
    "version": 3
   },
   "file_extension": ".py",
   "mimetype": "text/x-python",
   "name": "python",
   "nbconvert_exporter": "python",
   "pygments_lexer": "ipython3",
   "version": "3.8.5"
  }
 },
 "nbformat": 4,
 "nbformat_minor": 4
}
